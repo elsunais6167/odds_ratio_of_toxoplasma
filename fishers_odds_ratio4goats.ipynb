{
 "cells": [
  {
   "cell_type": "code",
   "execution_count": 1,
   "metadata": {},
   "outputs": [],
   "source": [
    "import numpy as np\n",
    "from scipy.stats import fisher_exact, norm"
   ]
  },
  {
   "cell_type": "code",
   "execution_count": 2,
   "metadata": {},
   "outputs": [],
   "source": [
    "def calc_odds_ratio(a, b, c, d):\n",
    "    odds_ratio = (a * d) / (b * c)\n",
    "    p_value = fisher_exact([[a, b], [c, d]])[1]\n",
    "    se = np.sqrt(1/a + 1/b + 1/c + 1/d)\n",
    "    z = np.log(odds_ratio) / se\n",
    "    confint = np.exp(norm.ppf(0.025) * se), np.exp(norm.ppf(0.975) * se)\n",
    "    return odds_ratio, p_value, confint"
   ]
  },
  {
   "cell_type": "code",
   "execution_count": 3,
   "metadata": {},
   "outputs": [
    {
     "name": "stdout",
     "output_type": "stream",
     "text": [
      "The Fisher's Exact Association for age =\n",
      "Odds ratio:  7.144\n",
      "P-value:  1.077e-11\n",
      "confint_lower 0.540\n",
      "confint_upper 1.851\n"
     ]
    }
   ],
   "source": [
    "#Age\n",
    "odds_ratio, p_value, confint = calc_odds_ratio(48, 15, 129, 288)\n",
    "\n",
    "print(\"The Fisher's Exact Association for age =\")\n",
    "print(\"Odds ratio: \", \"{:.3f}\".format(odds_ratio))\n",
    "print(\"P-value: \", \"{:.3e}\".format(p_value))\n",
    "print(\"confint_lower\", \"{:.3f}\".format(confint[0]))\n",
    "print(\"confint_upper\", \"{:.3f}\".format(confint[1]))"
   ]
  },
  {
   "cell_type": "code",
   "execution_count": 4,
   "metadata": {},
   "outputs": [
    {
     "name": "stdout",
     "output_type": "stream",
     "text": [
      "The Fisher's Exact Association for sex =\n",
      "Odds ratio:  0.520\n",
      "P-value:  8.583e-02\n",
      "confint_lower 0.492\n",
      "confint_upper 2.034\n"
     ]
    }
   ],
   "source": [
    "#Sex\n",
    "odds_ratio, p_value, confint = calc_odds_ratio(10, 53, 111, 306)\n",
    "\n",
    "print(\"The Fisher's Exact Association for sex =\")\n",
    "print(\"Odds ratio: \", \"{:.3f}\".format(odds_ratio))\n",
    "print(\"P-value: \", \"{:.3e}\".format(p_value))\n",
    "print(\"confint_lower\", \"{:.3f}\".format(confint[0]))\n",
    "print(\"confint_upper\", \"{:.3f}\".format(confint[1]))"
   ]
  },
  {
   "attachments": {},
   "cell_type": "markdown",
   "metadata": {},
   "source": [
    "not significant"
   ]
  },
  {
   "cell_type": "code",
   "execution_count": 5,
   "metadata": {},
   "outputs": [
    {
     "name": "stdout",
     "output_type": "stream",
     "text": [
      "The Fisher's Exact Association for Presence of Cat =\n",
      "Odds ratio:  52.841\n",
      "P-value:  2.547e-29\n",
      "confint_lower 0.354\n",
      "confint_upper 2.826\n"
     ]
    }
   ],
   "source": [
    "#presence of cat\n",
    "odds_ratio, p_value, confint = calc_odds_ratio(59, 4, 91, 326)\n",
    "\n",
    "print(\"The Fisher's Exact Association for Presence of Cat =\")\n",
    "print(\"Odds ratio: \", \"{:.3f}\".format(odds_ratio))\n",
    "print(\"P-value: \", \"{:.3e}\".format(p_value))\n",
    "print(\"confint_lower\", \"{:.3f}\".format(confint[0]))\n",
    "print(\"confint_upper\", \"{:.3f}\".format(confint[1]))"
   ]
  },
  {
   "cell_type": "code",
   "execution_count": 6,
   "metadata": {},
   "outputs": [
    {
     "name": "stdout",
     "output_type": "stream",
     "text": [
      "The Fisher's Exact Association for Cat in Contact with goats =\n",
      "Odds ratio:  99.153\n",
      "P-value:  8.852e-39\n",
      "confint_lower 0.349\n",
      "confint_upper 2.864\n"
     ]
    }
   ],
   "source": [
    "#cat in contact with goats\n",
    "odds_ratio, p_value, confint = calc_odds_ratio(59, 4, 54, 363)\n",
    "\n",
    "print(\"The Fisher's Exact Association for Cat in Contact with goats =\")\n",
    "print(\"Odds ratio: \", \"{:.3f}\".format(odds_ratio))\n",
    "print(\"P-value: \", \"{:.3e}\".format(p_value))\n",
    "print(\"confint_lower\", \"{:.3f}\".format(confint[0]))\n",
    "print(\"confint_upper\", \"{:.3f}\".format(confint[1]))"
   ]
  },
  {
   "cell_type": "code",
   "execution_count": 7,
   "metadata": {},
   "outputs": [
    {
     "name": "stdout",
     "output_type": "stream",
     "text": [
      "The Fisher's Exact Association for Cat with Sheep Contact in Drinking Water =\n",
      "Odds ratio:  29.260\n",
      "P-value:  5.622e-28\n",
      "confint_lower 0.493\n",
      "confint_upper 2.028\n"
     ]
    }
   ],
   "source": [
    "#Cat with contact in drinking water\n",
    "odds_ratio, p_value, confint = calc_odds_ratio(52, 11, 58, 359)\n",
    "\n",
    "print(\"The Fisher's Exact Association for Cat with Sheep Contact in Drinking Water =\")\n",
    "print(\"Odds ratio: \", \"{:.3f}\".format(odds_ratio))\n",
    "print(\"P-value: \", \"{:.3e}\".format(p_value))\n",
    "print(\"confint_lower\", \"{:.3f}\".format(confint[0]))\n",
    "print(\"confint_upper\", \"{:.3f}\".format(confint[1]))"
   ]
  },
  {
   "cell_type": "code",
   "execution_count": 8,
   "metadata": {},
   "outputs": [
    {
     "name": "stdout",
     "output_type": "stream",
     "text": [
      "The Fisher's Exact Associatio for Presence of Rats =\n",
      "Odds ratio:  8.660\n",
      "P-value:  2.781e-06\n",
      "confint_lower 0.308\n",
      "confint_upper 3.249\n"
     ]
    }
   ],
   "source": [
    "#Presence of rats\n",
    "odds_ratio, p_value, confint = calc_odds_ratio(60, 3, 291, 126)\n",
    "\n",
    "print(\"The Fisher's Exact Associatio for Presence of Rats =\")\n",
    "print(\"Odds ratio: \", \"{:.3f}\".format(odds_ratio))\n",
    "print(\"P-value: \", \"{:.3e}\".format(p_value))\n",
    "print(\"confint_lower\", \"{:.3f}\".format(confint[0]))\n",
    "print(\"confint_upper\", \"{:.3f}\".format(confint[1]))"
   ]
  },
  {
   "cell_type": "code",
   "execution_count": 9,
   "metadata": {},
   "outputs": [
    {
     "name": "stdout",
     "output_type": "stream",
     "text": [
      "The Fisher's Exact Associatio for House Type =\n",
      "Odds ratio:  1.582\n",
      "P-value:  3.097e-01\n",
      "confint_lower 0.475\n",
      "confint_upper 2.105\n"
     ]
    }
   ],
   "source": [
    "#House type\n",
    "odds_ratio, p_value, confint = calc_odds_ratio(54, 9, 330, 87)\n",
    "\n",
    "print(\"The Fisher's Exact Associatio for House Type =\")\n",
    "print(\"Odds ratio: \", \"{:.3f}\".format(odds_ratio))\n",
    "print(\"P-value: \", \"{:.3e}\".format(p_value))\n",
    "print(\"confint_lower\", \"{:.3f}\".format(confint[0]))\n",
    "print(\"confint_upper\", \"{:.3f}\".format(confint[1]))"
   ]
  },
  {
   "attachments": {},
   "cell_type": "markdown",
   "metadata": {},
   "source": [
    "Not significant"
   ]
  },
  {
   "cell_type": "code",
   "execution_count": 10,
   "metadata": {},
   "outputs": [
    {
     "name": "stdout",
     "output_type": "stream",
     "text": [
      "The Fisher's Exact Associatio for Water Source =\n",
      "Odds ratio:  0.760\n",
      "P-value:  3.222e-01\n",
      "confint_lower 0.580\n",
      "confint_upper 1.723\n"
     ]
    }
   ],
   "source": [
    "#Water source\n",
    "odds_ratio, p_value, confint = calc_odds_ratio(38, 25, 278, 139)\n",
    "\n",
    "print(\"The Fisher's Exact Associatio for Water Source =\")\n",
    "print(\"Odds ratio: \", \"{:.3f}\".format(odds_ratio))\n",
    "print(\"P-value: \", \"{:.3e}\".format(p_value))\n",
    "print(\"confint_lower\", \"{:.3f}\".format(confint[0]))\n",
    "print(\"confint_upper\", \"{:.3f}\".format(confint[1]))"
   ]
  },
  {
   "attachments": {},
   "cell_type": "markdown",
   "metadata": {},
   "source": [
    "Not significant"
   ]
  }
 ],
 "metadata": {
  "kernelspec": {
   "display_name": "Python 3",
   "language": "python",
   "name": "python3"
  },
  "language_info": {
   "codemirror_mode": {
    "name": "ipython",
    "version": 3
   },
   "file_extension": ".py",
   "mimetype": "text/x-python",
   "name": "python",
   "nbconvert_exporter": "python",
   "pygments_lexer": "ipython3",
   "version": "3.10.9"
  },
  "orig_nbformat": 4,
  "vscode": {
   "interpreter": {
    "hash": "e7370f93d1d0cde622a1f8e1c04877d8463912d04d973331ad4851f04de6915a"
   }
  }
 },
 "nbformat": 4,
 "nbformat_minor": 2
}
