{
 "cells": [
  {
   "cell_type": "code",
   "execution_count": 1,
   "metadata": {},
   "outputs": [],
   "source": [
    "import numpy as np\n",
    "from scipy.stats import fisher_exact, norm"
   ]
  },
  {
   "cell_type": "code",
   "execution_count": 2,
   "metadata": {},
   "outputs": [],
   "source": [
    "def calc_odds_ratio(a, b, c, d):\n",
    "    odds_ratio = (a * d) / (b * c)\n",
    "    p_value = fisher_exact([[a, b], [c, d]])[1]\n",
    "    se = np.sqrt(1/a + 1/b + 1/c + 1/d)\n",
    "    z = np.log(odds_ratio) / se\n",
    "    confint = np.exp(norm.ppf(0.025) * se), np.exp(norm.ppf(0.975) * se)\n",
    "    return odds_ratio, p_value, confint"
   ]
  },
  {
   "cell_type": "code",
   "execution_count": 3,
   "metadata": {},
   "outputs": [
    {
     "name": "stdout",
     "output_type": "stream",
     "text": [
      "The Fisher's Exact Association for age =\n",
      "Odds ratio:  7.413\n",
      "P-value:  5.538e-43\n",
      "confint_lower 0.738\n",
      "confint_upper 1.355\n"
     ]
    }
   ],
   "source": [
    "#Age\n",
    "odds_ratio, p_value, confint = calc_odds_ratio(182, 71, 305, 882)\n",
    "\n",
    "print(\"The Fisher's Exact Association for age =\")\n",
    "print(\"Odds ratio: \", \"{:.3f}\".format(odds_ratio))\n",
    "print(\"P-value: \", \"{:.3e}\".format(p_value))\n",
    "print(\"confint_lower\", \"{:.3f}\".format(confint[0]))\n",
    "print(\"confint_upper\", \"{:.3f}\".format(confint[1]))"
   ]
  },
  {
   "cell_type": "code",
   "execution_count": 4,
   "metadata": {},
   "outputs": [
    {
     "name": "stdout",
     "output_type": "stream",
     "text": [
      "The Fisher's Exact Association for sex =\n",
      "Odds ratio:  0.941\n",
      "P-value:  7.531e-01\n",
      "confint_lower 0.732\n",
      "confint_upper 1.365\n"
     ]
    }
   ],
   "source": [
    "#Sex\n",
    "odds_ratio, p_value, confint = calc_odds_ratio(64, 189, 314, 873)\n",
    "\n",
    "print(\"The Fisher's Exact Association for sex =\")\n",
    "print(\"Odds ratio: \", \"{:.3f}\".format(odds_ratio))\n",
    "print(\"P-value: \", \"{:.3e}\".format(p_value))\n",
    "print(\"confint_lower\", \"{:.3f}\".format(confint[0]))\n",
    "print(\"confint_upper\", \"{:.3f}\".format(confint[1]))"
   ]
  },
  {
   "attachments": {},
   "cell_type": "markdown",
   "metadata": {},
   "source": [
    "not significant"
   ]
  },
  {
   "cell_type": "code",
   "execution_count": 5,
   "metadata": {},
   "outputs": [
    {
     "name": "stdout",
     "output_type": "stream",
     "text": [
      "The Fisher's Exact Association for Presence of Cat =\n",
      "Odds ratio:  40.087\n",
      "P-value:  7.700e-107\n",
      "confint_lower 0.645\n",
      "confint_upper 1.550\n"
     ]
    }
   ],
   "source": [
    "#presence of cat\n",
    "odds_ratio, p_value, confint = calc_odds_ratio(228, 25, 220, 967)\n",
    "\n",
    "print(\"The Fisher's Exact Association for Presence of Cat =\")\n",
    "print(\"Odds ratio: \", \"{:.3f}\".format(odds_ratio))\n",
    "print(\"P-value: \", \"{:.3e}\".format(p_value))\n",
    "print(\"confint_lower\", \"{:.3f}\".format(confint[0]))\n",
    "print(\"confint_upper\", \"{:.3f}\".format(confint[1]))"
   ]
  },
  {
   "cell_type": "code",
   "execution_count": 6,
   "metadata": {},
   "outputs": [
    {
     "name": "stdout",
     "output_type": "stream",
     "text": [
      "The Fisher's Exact Association for Cat in Contact with combineds =\n",
      "Odds ratio:  88.099\n",
      "P-value:  1.151e-145\n",
      "confint_lower 0.626\n",
      "confint_upper 1.597\n"
     ]
    }
   ],
   "source": [
    "#cat in contact with combineds\n",
    "odds_ratio, p_value, confint = calc_odds_ratio(230, 23, 121, 1066)\n",
    "\n",
    "print(\"The Fisher's Exact Association for Cat in Contact with combineds =\")\n",
    "print(\"Odds ratio: \", \"{:.3f}\".format(odds_ratio))\n",
    "print(\"P-value: \", \"{:.3e}\".format(p_value))\n",
    "print(\"confint_lower\", \"{:.3f}\".format(confint[0]))\n",
    "print(\"confint_upper\", \"{:.3f}\".format(confint[1]))"
   ]
  },
  {
   "cell_type": "code",
   "execution_count": 7,
   "metadata": {},
   "outputs": [
    {
     "name": "stdout",
     "output_type": "stream",
     "text": [
      "The Fisher's Exact Association for Cat with combined Contact in Drinking Water =\n",
      "Odds ratio:  26.968\n",
      "P-value:  8.717e-98\n",
      "confint_lower 0.709\n",
      "confint_upper 1.411\n"
     ]
    }
   ],
   "source": [
    "#Cat with contact in drinking water\n",
    "odds_ratio, p_value, confint = calc_odds_ratio(194, 59, 129, 1058)\n",
    "\n",
    "print(\"The Fisher's Exact Association for Cat with combined Contact in Drinking Water =\")\n",
    "print(\"Odds ratio: \", \"{:.3f}\".format(odds_ratio))\n",
    "print(\"P-value: \", \"{:.3e}\".format(p_value))\n",
    "print(\"confint_lower\", \"{:.3f}\".format(confint[0]))\n",
    "print(\"confint_upper\", \"{:.3f}\".format(confint[1]))"
   ]
  },
  {
   "cell_type": "code",
   "execution_count": 8,
   "metadata": {},
   "outputs": [
    {
     "name": "stdout",
     "output_type": "stream",
     "text": [
      "The Fisher's Exact Associatio for Presence of Rats =\n",
      "Odds ratio:  6.562\n",
      "P-value:  7.838e-16\n",
      "confint_lower 0.563\n",
      "confint_upper 1.776\n"
     ]
    }
   ],
   "source": [
    "#Presence of rats\n",
    "odds_ratio, p_value, confint = calc_odds_ratio(204, 13, 837, 350)\n",
    "\n",
    "print(\"The Fisher's Exact Associatio for Presence of Rats =\")\n",
    "print(\"Odds ratio: \", \"{:.3f}\".format(odds_ratio))\n",
    "print(\"P-value: \", \"{:.3e}\".format(p_value))\n",
    "print(\"confint_lower\", \"{:.3f}\".format(confint[0]))\n",
    "print(\"confint_upper\", \"{:.3f}\".format(confint[1]))"
   ]
  },
  {
   "cell_type": "code",
   "execution_count": 9,
   "metadata": {},
   "outputs": [
    {
     "name": "stdout",
     "output_type": "stream",
     "text": [
      "The Fisher's Exact Associatio for House Type =\n",
      "Odds ratio:  2.310\n",
      "P-value:  3.210e-05\n",
      "confint_lower 0.660\n",
      "confint_upper 1.516\n"
     ]
    }
   ],
   "source": [
    "#House type\n",
    "odds_ratio, p_value, confint = calc_odds_ratio(225, 28, 922, 265)\n",
    "\n",
    "print(\"The Fisher's Exact Associatio for House Type =\")\n",
    "print(\"Odds ratio: \", \"{:.3f}\".format(odds_ratio))\n",
    "print(\"P-value: \", \"{:.3e}\".format(p_value))\n",
    "print(\"confint_lower\", \"{:.3f}\".format(confint[0]))\n",
    "print(\"confint_upper\", \"{:.3f}\".format(confint[1]))"
   ]
  },
  {
   "cell_type": "code",
   "execution_count": 10,
   "metadata": {},
   "outputs": [
    {
     "name": "stdout",
     "output_type": "stream",
     "text": [
      "The Fisher's Exact Associatio for Water Source =\n",
      "Odds ratio:  0.630\n",
      "P-value:  1.126e-03\n",
      "confint_lower 0.759\n",
      "confint_upper 1.317\n"
     ]
    }
   ],
   "source": [
    "#Water source\n",
    "odds_ratio, p_value, confint = calc_odds_ratio(140, 113, 787, 400)\n",
    "\n",
    "print(\"The Fisher's Exact Associatio for Water Source =\")\n",
    "print(\"Odds ratio: \", \"{:.3f}\".format(odds_ratio))\n",
    "print(\"P-value: \", \"{:.3e}\".format(p_value))\n",
    "print(\"confint_lower\", \"{:.3f}\".format(confint[0]))\n",
    "print(\"confint_upper\", \"{:.3f}\".format(confint[1]))"
   ]
  }
 ],
 "metadata": {
  "kernelspec": {
   "display_name": "Python 3",
   "language": "python",
   "name": "python3"
  },
  "language_info": {
   "codemirror_mode": {
    "name": "ipython",
    "version": 3
   },
   "file_extension": ".py",
   "mimetype": "text/x-python",
   "name": "python",
   "nbconvert_exporter": "python",
   "pygments_lexer": "ipython3",
   "version": "3.10.9"
  },
  "orig_nbformat": 4,
  "vscode": {
   "interpreter": {
    "hash": "e7370f93d1d0cde622a1f8e1c04877d8463912d04d973331ad4851f04de6915a"
   }
  }
 },
 "nbformat": 4,
 "nbformat_minor": 2
}
