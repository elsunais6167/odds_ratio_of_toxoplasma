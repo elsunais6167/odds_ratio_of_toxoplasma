{
 "cells": [
  {
   "cell_type": "code",
   "execution_count": 15,
   "metadata": {},
   "outputs": [],
   "source": [
    "def calculate_statistics(a, b, c, d, alpha=0.05):\n",
    "    # Calculate the risk ratio\n",
    "    RR = (a / (a + b)) / (c / (c + d))\n",
    "\n",
    "    # Calculate the odds ratio\n",
    "    OR = (a * d) / (b * c)\n",
    "\n",
    "    # Calculate the risk difference\n",
    "    RD = (a / (a + b)) - (c / (c + d))\n",
    "\n",
    "    # Calculate the standard errors for RR and OR\n",
    "    SE_RR = math.sqrt(1/a + 1/b + 1/c + 1/d)\n",
    "    SE_OR = math.sqrt((1/a) + (1/b) + (1/c) + (1/d))\n",
    "\n",
    "    # Calculate the confidence intervals for RR and OR\n",
    "    z = abs(norm.ppf(alpha/2))\n",
    "    CI_RR = (math.exp(math.log(RR) - z*SE_RR), math.exp(math.log(RR) + z*SE_RR))\n",
    "    CI_OR = (math.exp(math.log(OR) - z*SE_OR), math.exp(math.log(OR) + z*SE_OR))\n",
    "\n",
    "    # Calculate the p-values for RR and OR using the two-tailed z-test\n",
    "    z_RR = (math.log(RR) - 0) / SE_RR\n",
    "    p_RR = 2 * (1 - norm.cdf(abs(z_RR)))\n",
    "\n",
    "    z_OR = (math.log(OR) - 0) / SE_OR\n",
    "    p_OR = 2 * (1 - norm.cdf(abs(z_OR)))\n",
    "\n",
    "    # Create a dictionary to store the results\n",
    "    results = {\n",
    "        'Risk Ratio': RR,\n",
    "        'Odds Ratio': OR,\n",
    "        'Risk Difference': RD,\n",
    "        '95% CI for Risk Ratio': CI_RR,\n",
    "        '95% CI for Odds Ratio': CI_OR,\n",
    "        'p-value for Risk Ratio': p_RR,\n",
    "        'p-value for Odds Ratio': p_OR\n",
    "    }\n",
    "\n",
    "    return results\n"
   ]
  },
  {
   "cell_type": "code",
   "execution_count": 16,
   "metadata": {},
   "outputs": [
    {
     "data": {
      "text/plain": [
       "{'Risk Ratio': 2.7996371411909546,\n",
       " 'Odds Ratio': 7.412791503117063,\n",
       " 'Risk Difference': 0.4624172940718122,\n",
       " '95% CI for Risk Ratio': (2.0666053874055166, 3.7926776781395604),\n",
       " '95% CI for Odds Ratio': (5.471892993082234, 10.042133122514214),\n",
       " 'p-value for Risk Ratio': 3.001310311390171e-11,\n",
       " 'p-value for Odds Ratio': 0.0}"
      ]
     },
     "execution_count": 16,
     "metadata": {},
     "output_type": "execute_result"
    }
   ],
   "source": [
    "results = calculate_statistics(182, 71, 305, 882)\n",
    "results"
   ]
  }
 ],
 "metadata": {
  "kernelspec": {
   "display_name": "Python 3",
   "language": "python",
   "name": "python3"
  },
  "language_info": {
   "codemirror_mode": {
    "name": "ipython",
    "version": 3
   },
   "file_extension": ".py",
   "mimetype": "text/x-python",
   "name": "python",
   "nbconvert_exporter": "python",
   "pygments_lexer": "ipython3",
   "version": "3.11.2"
  },
  "orig_nbformat": 4
 },
 "nbformat": 4,
 "nbformat_minor": 2
}
