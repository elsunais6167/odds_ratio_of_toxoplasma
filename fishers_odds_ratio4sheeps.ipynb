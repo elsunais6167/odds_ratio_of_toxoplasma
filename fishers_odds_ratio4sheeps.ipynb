{
 "cells": [
  {
   "cell_type": "code",
   "execution_count": 1,
   "metadata": {},
   "outputs": [],
   "source": [
    "import numpy as np\n",
    "from scipy.stats import fisher_exact, norm"
   ]
  },
  {
   "cell_type": "code",
   "execution_count": 2,
   "metadata": {},
   "outputs": [],
   "source": [
    "def calc_odds_ratio(a, b, c, d):\n",
    "    odds_ratio = (a * d) / (b * c)\n",
    "    p_value = fisher_exact([[a, b], [c, d]])[1]\n",
    "    se = np.sqrt(1/a + 1/b + 1/c + 1/d)\n",
    "    z = np.log(odds_ratio) / se\n",
    "    confint = np.exp(norm.ppf(0.025) * se), np.exp(norm.ppf(0.975) * se)\n",
    "    return odds_ratio, p_value, confint"
   ]
  },
  {
   "cell_type": "code",
   "execution_count": 3,
   "metadata": {},
   "outputs": [
    {
     "name": "stdout",
     "output_type": "stream",
     "text": [
      "The Fisher's Exact Associatio for age =\n",
      "Odds ratio:  8.310\n",
      "P-value:  7.212e-15\n",
      "confint_lower 0.577\n",
      "confint_upper 1.733\n"
     ]
    }
   ],
   "source": [
    "#Age\n",
    "odds_ratio, p_value, confint = calc_odds_ratio(47, 24, 78, 331)\n",
    "\n",
    "print(\"The Fisher's Exact Associatio for age =\")\n",
    "print(\"Odds ratio: \", \"{:.3f}\".format(odds_ratio))\n",
    "print(\"P-value: \", \"{:.3e}\".format(p_value))\n",
    "print(\"confint_lower\", \"{:.3f}\".format(confint[0]))\n",
    "print(\"confint_upper\", \"{:.3f}\".format(confint[1]))"
   ]
  },
  {
   "cell_type": "code",
   "execution_count": 4,
   "metadata": {},
   "outputs": [
    {
     "name": "stdout",
     "output_type": "stream",
     "text": [
      "The Fisher's Exact Associatio for sex =\n",
      "Odds ratio:  1.924\n",
      "P-value:  1.559e-02\n",
      "confint_lower 0.593\n",
      "confint_upper 1.685\n"
     ]
    }
   ],
   "source": [
    "#Sex\n",
    "odds_ratio, p_value, confint = calc_odds_ratio(29, 42, 108, 301)\n",
    "\n",
    "print(\"The Fisher's Exact Associatio for sex =\")\n",
    "print(\"Odds ratio: \", \"{:.3f}\".format(odds_ratio))\n",
    "print(\"P-value: \", \"{:.3e}\".format(p_value))\n",
    "print(\"confint_lower\", \"{:.3f}\".format(confint[0]))\n",
    "print(\"confint_upper\", \"{:.3f}\".format(confint[1]))"
   ]
  },
  {
   "cell_type": "code",
   "execution_count": 5,
   "metadata": {},
   "outputs": [
    {
     "name": "stdout",
     "output_type": "stream",
     "text": [
      "The Fisher's Exact Associatio for Presence of Cat =\n",
      "Odds ratio:  36.247\n",
      "P-value:  1.614e-31\n",
      "confint_lower 0.459\n",
      "confint_upper 2.177\n"
     ]
    }
   ],
   "source": [
    "#presence of cat\n",
    "odds_ratio, p_value, confint = calc_odds_ratio(63, 8, 73, 336)\n",
    "\n",
    "print(\"The Fisher's Exact Associatio for Presence of Cat =\")\n",
    "print(\"Odds ratio: \", \"{:.3f}\".format(odds_ratio))\n",
    "print(\"P-value: \", \"{:.3e}\".format(p_value))\n",
    "print(\"confint_lower\", \"{:.3f}\".format(confint[0]))\n",
    "print(\"confint_upper\", \"{:.3f}\".format(confint[1]))"
   ]
  },
  {
   "cell_type": "code",
   "execution_count": 6,
   "metadata": {},
   "outputs": [
    {
     "name": "stdout",
     "output_type": "stream",
     "text": [
      "The Fisher's Exact Associatio for Cat in Contact with Cattle =\n",
      "Odds ratio:  40.934\n",
      "P-value:  2.497e-35\n",
      "confint_lower 0.509\n",
      "confint_upper 1.964\n"
     ]
    }
   ],
   "source": [
    "#cat in contact with Sheep\n",
    "odds_ratio, p_value, confint = calc_odds_ratio(57, 14, 37, 372)\n",
    "\n",
    "print(\"The Fisher's Exact Associatio for Cat in Contact with Sheep =\")\n",
    "print(\"Odds ratio: \", \"{:.3f}\".format(odds_ratio))\n",
    "print(\"P-value: \", \"{:.3e}\".format(p_value))\n",
    "print(\"confint_lower\", \"{:.3f}\".format(confint[0]))\n",
    "print(\"confint_upper\", \"{:.3f}\".format(confint[1]))"
   ]
  },
  {
   "cell_type": "code",
   "execution_count": 7,
   "metadata": {},
   "outputs": [
    {
     "name": "stdout",
     "output_type": "stream",
     "text": [
      "The Fisher's Exact Associatio for Cat with Contact in Drinking Water =\n",
      "Odds ratio:  34.561\n",
      "P-value:  5.731e-33\n",
      "confint_lower 0.521\n",
      "confint_upper 1.918\n"
     ]
    }
   ],
   "source": [
    "#Cat with contact in drinking water\n",
    "odds_ratio, p_value, confint = calc_odds_ratio(55, 16, 37, 372)\n",
    "\n",
    "print(\"The Fisher's Exact Associatio for Cat with sheep Contact in Drinking Water =\")\n",
    "print(\"Odds ratio: \", \"{:.3f}\".format(odds_ratio))\n",
    "print(\"P-value: \", \"{:.3e}\".format(p_value))\n",
    "print(\"confint_lower\", \"{:.3f}\".format(confint[0]))\n",
    "print(\"confint_upper\", \"{:.3f}\".format(confint[1]))"
   ]
  },
  {
   "cell_type": "code",
   "execution_count": 8,
   "metadata": {},
   "outputs": [
    {
     "name": "stdout",
     "output_type": "stream",
     "text": [
      "The Fisher's Exact Associatio for Presence of Rats =\n",
      "Odds ratio:  7.829\n",
      "P-value:  1.065e-05\n",
      "confint_lower 0.308\n",
      "confint_upper 3.246\n"
     ]
    }
   ],
   "source": [
    "#Presence of rats\n",
    "odds_ratio, p_value, confint = calc_odds_ratio(68, 3, 304, 105)\n",
    "\n",
    "print(\"The Fisher's Exact Associatio for Presence of Rats =\")\n",
    "print(\"Odds ratio: \", \"{:.3f}\".format(odds_ratio))\n",
    "print(\"P-value: \", \"{:.3e}\".format(p_value))\n",
    "print(\"confint_lower\", \"{:.3f}\".format(confint[0]))\n",
    "print(\"confint_upper\", \"{:.3f}\".format(confint[1]))"
   ]
  },
  {
   "cell_type": "code",
   "execution_count": 9,
   "metadata": {},
   "outputs": [
    {
     "name": "stdout",
     "output_type": "stream",
     "text": [
      "The Fisher's Exact Associatio for House Type =\n",
      "Odds ratio:  2.959\n",
      "P-value:  5.201e-03\n",
      "confint_lower 0.444\n",
      "confint_upper 2.253\n"
     ]
    }
   ],
   "source": [
    "#House type\n",
    "odds_ratio, p_value, confint = calc_odds_ratio(64, 7, 309, 100)\n",
    "\n",
    "print(\"The Fisher's Exact Associatio for House Type =\")\n",
    "print(\"Odds ratio: \", \"{:.3f}\".format(odds_ratio))\n",
    "print(\"P-value: \", \"{:.3e}\".format(p_value))\n",
    "print(\"confint_lower\", \"{:.3f}\".format(confint[0]))\n",
    "print(\"confint_upper\", \"{:.3f}\".format(confint[1]))"
   ]
  },
  {
   "cell_type": "code",
   "execution_count": 10,
   "metadata": {},
   "outputs": [
    {
     "name": "stdout",
     "output_type": "stream",
     "text": [
      "The Fisher's Exact Associatio for Water Source =\n",
      "Odds ratio:  0.573\n",
      "P-value:  3.315e-02\n",
      "confint_lower 0.602\n",
      "confint_upper 1.662\n"
     ]
    }
   ],
   "source": [
    "#Water source\n",
    "odds_ratio, p_value, confint = calc_odds_ratio(37, 34, 268, 141)\n",
    "\n",
    "print(\"The Fisher's Exact Associatio for Water Source =\")\n",
    "print(\"Odds ratio: \", \"{:.3f}\".format(odds_ratio))\n",
    "print(\"P-value: \", \"{:.3e}\".format(p_value))\n",
    "print(\"confint_lower\", \"{:.3f}\".format(confint[0]))\n",
    "print(\"confint_upper\", \"{:.3f}\".format(confint[1]))"
   ]
  }
 ],
 "metadata": {
  "kernelspec": {
   "display_name": "Python 3",
   "language": "python",
   "name": "python3"
  },
  "language_info": {
   "codemirror_mode": {
    "name": "ipython",
    "version": 3
   },
   "file_extension": ".py",
   "mimetype": "text/x-python",
   "name": "python",
   "nbconvert_exporter": "python",
   "pygments_lexer": "ipython3",
   "version": "3.11.1 (main, Dec 31 2022, 10:23:59) [GCC 12.2.0]"
  },
  "orig_nbformat": 4,
  "vscode": {
   "interpreter": {
    "hash": "ead1b95f633dc9c51826328e1846203f51a198c6fb5f2884a80417ba131d4e82"
   }
  }
 },
 "nbformat": 4,
 "nbformat_minor": 2
}
