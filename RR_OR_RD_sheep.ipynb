{
 "cells": [
  {
   "cell_type": "code",
   "execution_count": 1,
   "metadata": {},
   "outputs": [],
   "source": [
    "import math\n",
    "from scipy.stats import norm\n",
    "\n",
    "def calculate_statistics(a, b, c, d, alpha=0.05):\n",
    "    # Calculate the risk ratio\n",
    "    RR = (a / (a + b)) / (c / (c + d))\n",
    "\n",
    "    # Calculate the odds ratio\n",
    "    OR = (a * d) / (b * c)\n",
    "\n",
    "    # Calculate the risk difference\n",
    "    RD = (a / (a + b)) - (c / (c + d))\n",
    "\n",
    "    # Calculate the standard errors for RR and OR\n",
    "    SE_RR = math.sqrt(1/a + 1/b + 1/c + 1/d)\n",
    "    SE_OR = math.sqrt((1/a) + (1/b) + (1/c) + (1/d))\n",
    "\n",
    "    # Calculate the confidence intervals for RR and OR\n",
    "    z = abs(norm.ppf(alpha/2))\n",
    "    CI_RR = (math.exp(math.log(RR) - z*SE_RR), math.exp(math.log(RR) + z*SE_RR))\n",
    "    CI_OR = (math.exp(math.log(OR) - z*SE_OR), math.exp(math.log(OR) + z*SE_OR))\n",
    "\n",
    "    # Calculate the p-values for RR and OR using the two-tailed z-test\n",
    "    z_RR = (math.log(RR) - 0) / SE_RR\n",
    "    p_RR = 2 * (1 - norm.cdf(abs(z_RR)))\n",
    "\n",
    "    z_OR = (math.log(OR) - 0) / SE_OR\n",
    "    p_OR = 2 * (1 - norm.cdf(abs(z_OR)))\n",
    "\n",
    "    # Create a dictionary to store the results\n",
    "    results = {\n",
    "        'Risk Ratio': RR,\n",
    "        'Odds Ratio': OR,\n",
    "        'Risk Difference': RD,\n",
    "        '95% CI for Risk Ratio': CI_RR,\n",
    "        '95% CI for Odds Ratio': CI_OR,\n",
    "        'p-value for Risk Ratio': p_RR,\n",
    "        'p-value for Odds Ratio': p_OR\n",
    "    }\n",
    "\n",
    "    return results\n"
   ]
  },
  {
   "cell_type": "code",
   "execution_count": 2,
   "metadata": {},
   "outputs": [
    {
     "data": {
      "text/plain": [
       "{'Risk Ratio': 3.47110870350307,\n",
       " 'Odds Ratio': 8.310363247863247,\n",
       " 'Risk Difference': 0.4712627845311478,\n",
       " '95% CI for Risk Ratio': (2.002384221335934, 6.017124737177704),\n",
       " '95% CI for Odds Ratio': (4.794012997719618, 14.405913656113814),\n",
       " 'p-value for Risk Ratio': 9.2638343216489e-06,\n",
       " 'p-value for Odds Ratio': 4.551914400963142e-14}"
      ]
     },
     "execution_count": 2,
     "metadata": {},
     "output_type": "execute_result"
    }
   ],
   "source": [
    "#age\n",
    "results = calculate_statistics(47, 24, 78, 331)\n",
    "results"
   ]
  },
  {
   "cell_type": "code",
   "execution_count": 3,
   "metadata": {},
   "outputs": [
    {
     "data": {
      "text/plain": [
       "{'Risk Ratio': 1.5468179447052688,\n",
       " 'Odds Ratio': 1.9243827160493827,\n",
       " 'Risk Difference': 0.14439202451875066,\n",
       " '95% CI for Risk Ratio': (0.9179757061479817, 2.6064369002773224),\n",
       " '95% CI for Odds Ratio': (1.1420455708515844, 3.242645418315675),\n",
       " 'p-value for Risk Ratio': 0.10132039397590753,\n",
       " 'p-value for Odds Ratio': 0.013937276070091098}"
      ]
     },
     "execution_count": 3,
     "metadata": {},
     "output_type": "execute_result"
    }
   ],
   "source": [
    "#sex\n",
    "results = calculate_statistics(29, 42, 108, 301)\n",
    "results"
   ]
  },
  {
   "cell_type": "code",
   "execution_count": 4,
   "metadata": {},
   "outputs": [
    {
     "data": {
      "text/plain": [
       "{'Risk Ratio': 4.971445109010226,\n",
       " 'Odds Ratio': 36.24657534246575,\n",
       " 'Risk Difference': 0.7088398360825098,\n",
       " '95% CI for Risk Ratio': (2.2836061934323686, 10.822910948035867),\n",
       " '95% CI for Odds Ratio': (16.64966667192011, 78.90934094631531),\n",
       " 'p-value for Risk Ratio': 5.336983986725663e-05,\n",
       " 'p-value for Odds Ratio': 0.0}"
      ]
     },
     "execution_count": 4,
     "metadata": {},
     "output_type": "execute_result"
    }
   ],
   "source": [
    "#Presence of Cat\n",
    "results = calculate_statistics(63, 8, 73, 336)\n",
    "results"
   ]
  },
  {
   "cell_type": "code",
   "execution_count": 5,
   "metadata": {},
   "outputs": [
    {
     "data": {
      "text/plain": [
       "{'Risk Ratio': 11.527731092436976,\n",
       " 'Odds Ratio': 251.56,\n",
       " 'Risk Difference': 0.8748807002025187,\n",
       " '95% CI for Risk Ratio': (4.368294290569739, 30.421161052820466),\n",
       " '95% CI for Odds Ratio': (95.32561984002855, 663.8554641050116),\n",
       " 'p-value for Risk Ratio': 7.89770913334209e-07,\n",
       " 'p-value for Odds Ratio': 0.0}"
      ]
     },
     "execution_count": 5,
     "metadata": {},
     "output_type": "execute_result"
    }
   ],
   "source": [
    "#Cat Contact with Sheep\n",
    "results = calculate_statistics(114, 5, 30, 331)\n",
    "results"
   ]
  },
  {
   "cell_type": "code",
   "execution_count": 6,
   "metadata": {},
   "outputs": [
    {
     "data": {
      "text/plain": [
       "{'Risk Ratio': 8.874381423677198,\n",
       " 'Odds Ratio': 40.93436293436294,\n",
       " 'Risk Difference': 0.7123523537311891,\n",
       " '95% CI for Risk Ratio': (4.517415543512244, 17.433562375285945),\n",
       " '95% CI for Odds Ratio': (20.837230062040756, 80.41481827734057),\n",
       " 'p-value for Risk Ratio': 2.3426327544484593e-10,\n",
       " 'p-value for Odds Ratio': 0.0}"
      ]
     },
     "execution_count": 6,
     "metadata": {},
     "output_type": "execute_result"
    }
   ],
   "source": [
    "#Contact with sheep in Driking Water\n",
    "results = calculate_statistics(57, 14, 37, 372)\n",
    "results"
   ]
  },
  {
   "cell_type": "code",
   "execution_count": 7,
   "metadata": {},
   "outputs": [
    {
     "data": {
      "text/plain": [
       "{'Risk Ratio': 1.2885470719051149,\n",
       " 'Odds Ratio': 7.828947368421052,\n",
       " 'Risk Difference': 0.2144701952546575,\n",
       " '95% CI for Risk Ratio': (0.39698583704170376, 4.182399979021981),\n",
       " '95% CI for Odds Ratio': (2.412004413321843, 25.41140329552475),\n",
       " 'p-value for Risk Ratio': 0.6730059838168518,\n",
       " 'p-value for Odds Ratio': 0.0006133081077011049}"
      ]
     },
     "execution_count": 7,
     "metadata": {},
     "output_type": "execute_result"
    }
   ],
   "source": [
    "#Presence of Rats\n",
    "results = calculate_statistics(68, 3, 304, 105)\n",
    "results"
   ]
  },
  {
   "cell_type": "code",
   "execution_count": 8,
   "metadata": {},
   "outputs": [
    {
     "data": {
      "text/plain": [
       "{'Risk Ratio': 1.1931263959159488,\n",
       " 'Odds Ratio': 2.9588534442903374,\n",
       " 'Risk Difference': 0.14590722821033786,\n",
       " '95% CI for Risk Ratio': (0.5296119162210606, 2.6879127017927402),\n",
       " '95% CI for Odds Ratio': (1.313393155839864, 6.665798177690692),\n",
       " 'p-value for Risk Ratio': 0.6700246802149894,\n",
       " 'p-value for Odds Ratio': 0.008848998478095949}"
      ]
     },
     "execution_count": 8,
     "metadata": {},
     "output_type": "execute_result"
    }
   ],
   "source": [
    "#Housing Type\n",
    "results = calculate_statistics(64, 7, 309, 100)\n",
    "results"
   ]
  },
  {
   "cell_type": "code",
   "execution_count": 9,
   "metadata": {},
   "outputs": [
    {
     "data": {
      "text/plain": [
       "{'Risk Ratio': 0.7953016607105318,\n",
       " 'Odds Ratio': 0.5725417032484635,\n",
       " 'Risk Difference': -0.13412996315300119,\n",
       " '95% CI for Risk Ratio': (0.4783798904078404, 1.3221808529403085),\n",
       " '95% CI for Odds Ratio': (0.3443881118130944, 0.9518447086714676),\n",
       " 'p-value for Risk Ratio': 0.37717817127773134,\n",
       " 'p-value for Odds Ratio': 0.03153461194061169}"
      ]
     },
     "execution_count": 9,
     "metadata": {},
     "output_type": "execute_result"
    }
   ],
   "source": [
    "#Water Souce \n",
    "results = calculate_statistics(37, 34, 268, 141)\n",
    "results"
   ]
  }
 ],
 "metadata": {
  "kernelspec": {
   "display_name": "Python 3",
   "language": "python",
   "name": "python3"
  },
  "language_info": {
   "codemirror_mode": {
    "name": "ipython",
    "version": 3
   },
   "file_extension": ".py",
   "mimetype": "text/x-python",
   "name": "python",
   "nbconvert_exporter": "python",
   "pygments_lexer": "ipython3",
   "version": "3.11.2"
  },
  "orig_nbformat": 4
 },
 "nbformat": 4,
 "nbformat_minor": 2
}
