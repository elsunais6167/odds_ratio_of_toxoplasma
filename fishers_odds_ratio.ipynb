{
 "cells": [
  {
   "cell_type": "code",
   "execution_count": 1,
   "metadata": {},
   "outputs": [],
   "source": [
    "import numpy as np\n",
    "from scipy.stats import fisher_exact, norm"
   ]
  },
  {
   "cell_type": "code",
   "execution_count": 2,
   "metadata": {},
   "outputs": [],
   "source": [
    "def calc_odds_ratio(a, b, c, d):\n",
    "    odds_ratio = (a * d) / (b * c)\n",
    "    p_value = fisher_exact([[a, b], [c, d]])[1]\n",
    "    se = np.sqrt(1/a + 1/b + 1/c + 1/d)\n",
    "    z = np.log(odds_ratio) / se\n",
    "    confint = np.exp(norm.ppf(0.025) * se), np.exp(norm.ppf(0.975) * se)\n",
    "    return odds_ratio, p_value, confint"
   ]
  },
  {
   "cell_type": "code",
   "execution_count": 3,
   "metadata": {},
   "outputs": [
    {
     "name": "stdout",
     "output_type": "stream",
     "text": [
      "The Fisher's Exact Associatio for age =\n",
      "Odds ratio:  7.296\n",
      "P-value:  1.179e-18\n",
      "confint_lower 0.627\n",
      "confint_upper 1.595\n"
     ]
    }
   ],
   "source": [
    "#Age\n",
    "odds_ratio, p_value, confint = calc_odds_ratio(87, 32, 98, 263)\n",
    "\n",
    "print(\"The Fisher's Exact Associatio for age =\")\n",
    "print(\"Odds ratio: \", \"{:.3f}\".format(odds_ratio))\n",
    "print(\"P-value: \", \"{:.3e}\".format(p_value))\n",
    "print(\"confint_lower\", \"{:.3f}\".format(confint[0]))\n",
    "print(\"confint_upper\", \"{:.3f}\".format(confint[1]))"
   ]
  },
  {
   "attachments": {},
   "cell_type": "markdown",
   "metadata": {},
   "source": [
    "The Fisher's exact odds ratio of 7.296 indicates that the odds of being a positive case in the group with less than 1 year is 7 times higher compared to the group with greater than 1 year.\n",
    "\n",
    "The p-value of 1.179e-18 is extremely small, which suggests strong evidence against the null hypothesis. In other words, the association between the two groups is statistically significant.\n",
    "\n",
    "The confidence interval provides a range of values that is likely to contain the true proportion of positive cases with a certain level of confidence, in this case 95% (as defined by the alpha value of 0.05). The lower and upper bounds of the confidence interval are 0.627 and 1.595 respectively, indicating that the true proportion of positive cases in the two groups are likely to be between these values."
   ]
  },
  {
   "cell_type": "code",
   "execution_count": 4,
   "metadata": {},
   "outputs": [
    {
     "name": "stdout",
     "output_type": "stream",
     "text": [
      "The Fisher's Exact Associatio for sex =\n",
      "Odds ratio:  0.745\n",
      "P-value:  2.733e-01\n",
      "confint_lower 0.607\n",
      "confint_upper 1.648\n"
     ]
    }
   ],
   "source": [
    "#Sex\n",
    "odds_ratio, p_value, confint = calc_odds_ratio(25, 94, 95, 266)\n",
    "\n",
    "print(\"The Fisher's Exact Associatio for sex =\")\n",
    "print(\"Odds ratio: \", \"{:.3f}\".format(odds_ratio))\n",
    "print(\"P-value: \", \"{:.3e}\".format(p_value))\n",
    "print(\"confint_lower\", \"{:.3f}\".format(confint[0]))\n",
    "print(\"confint_upper\", \"{:.3f}\".format(confint[1]))"
   ]
  },
  {
   "attachments": {},
   "cell_type": "markdown",
   "metadata": {},
   "source": [
    "The odds ratio of 0.745 indicates that the odds of a positive outcome are 0.745 times higher in the female group compared to the male group. This means that for every one unit increase in the odds of a positive outcome in the male group, the odds of a positive outcome increase by 0.745 units in the female group.\n",
    "\n",
    "The p-value of 0.273 suggests that the results are not statistically significant at the commonly used significance level of 0.05. This means that there is a 27.3% chance of observing the results by chance if there is no real difference between the male and female groups.\n",
    "\n",
    "The confidence interval of (0.607, 1.648) shows that with 95% confidence, the true odds ratio lies between 0.607 and 1.648. This means that if the study were repeated many times with different samples, 95% of the confidence intervals would contain the true odds ratio. The lower end of the interval (0.607) suggests that the odds of a positive outcome are 0.607 times higher in the female group compared to the male group, while the upper end of the interval (1.648) suggests that the odds of a positive outcome are 1.648 times higher in the female group compared to the male group."
   ]
  },
  {
   "cell_type": "code",
   "execution_count": 5,
   "metadata": {},
   "outputs": [
    {
     "name": "stdout",
     "output_type": "stream",
     "text": [
      "The Fisher's Exact Associatio for Presence of Cat =\n",
      "Odds ratio:  44.409\n",
      "P-value:  2.802e-49\n",
      "confint_lower 0.526\n",
      "confint_upper 1.901\n"
     ]
    }
   ],
   "source": [
    "#presence of cat\n",
    "odds_ratio, p_value, confint = calc_odds_ratio(106, 13, 56, 305)\n",
    "\n",
    "print(\"The Fisher's Exact Associatio for Presence of Cat =\")\n",
    "print(\"Odds ratio: \", \"{:.3f}\".format(odds_ratio))\n",
    "print(\"P-value: \", \"{:.3e}\".format(p_value))\n",
    "print(\"confint_lower\", \"{:.3f}\".format(confint[0]))\n",
    "print(\"confint_upper\", \"{:.3f}\".format(confint[1]))"
   ]
  },
  {
   "attachments": {},
   "cell_type": "markdown",
   "metadata": {},
   "source": [
    "The odds ratio of 44.409 indicates that the odds of a positive outcome are 44.409 times higher in the group with the presence of cats compared to the group without the presence of cats. This means that for every one unit increase in the odds of a positive outcome in the group without the presence of cats, the odds of a positive outcome increase by 44.409 units in the group with the presence of cats.\n",
    "\n",
    "The p-value of 2.802e-49 suggests that the results are highly statistically significant at the commonly used significance level of 0.05. This means that there is a very small chance of observing the results by chance if there is no real difference between the groups with and without the presence of cats.\n",
    "\n",
    "The confidence interval of (0.526, 1.901) shows that with 95% confidence, the true odds ratio lies between 0.526 and 1.901. This means that if the study were repeated many times with different samples, 95% of the confidence intervals would contain the true odds ratio. The lower end of the interval (0.526) suggests that the odds of a positive outcome are 0.526 times higher in the group with the presence of cats compared to the group without the presence of cats, while the upper end of the interval (1.901) suggests that the odds of a positive outcome are 1.901 times higher in the group with the presence of cats compared to the group without the presence of cats."
   ]
  },
  {
   "cell_type": "code",
   "execution_count": 6,
   "metadata": {},
   "outputs": [
    {
     "name": "stdout",
     "output_type": "stream",
     "text": [
      "The Fisher's Exact Associatio for Cat in Contact with Cattle =\n",
      "Odds ratio:  251.560\n",
      "P-value:  1.219e-74\n",
      "confint_lower 0.379\n",
      "confint_upper 2.639\n"
     ]
    }
   ],
   "source": [
    "#cat in contact with cattle\n",
    "odds_ratio, p_value, confint = calc_odds_ratio(114, 5, 30, 331)\n",
    "\n",
    "print(\"The Fisher's Exact Associatio for Cat in Contact with Cattle =\")\n",
    "print(\"Odds ratio: \", \"{:.3f}\".format(odds_ratio))\n",
    "print(\"P-value: \", \"{:.3e}\".format(p_value))\n",
    "print(\"confint_lower\", \"{:.3f}\".format(confint[0]))\n",
    "print(\"confint_upper\", \"{:.3f}\".format(confint[1]))"
   ]
  },
  {
   "attachments": {},
   "cell_type": "markdown",
   "metadata": {},
   "source": [
    "The odds ratio of 251.560 suggests that cattle that have contact with cats have 251.560 times higher odds of being infected with T. gondii compared to cattle without contact with cats. The p-value of 1.219e-74 is very small, indicating strong evidence against the null hypothesis (that there is no association between contact with cats and T. gondii infection in cattle). The confidence interval (0.379, 2.639) gives the range of values for the true odds ratio with a 95% level of confidence, meaning that if we repeated the study many times, 95% of the intervals would contain the true odds ratio."
   ]
  },
  {
   "cell_type": "code",
   "execution_count": 7,
   "metadata": {},
   "outputs": [
    {
     "name": "stdout",
     "output_type": "stream",
     "text": [
      "The Fisher's Exact Associatio for Cat with Contact in Drinking Water =\n",
      "Odds ratio:  26.148\n",
      "P-value:  3.055e-40\n",
      "confint_lower 0.584\n",
      "confint_upper 1.712\n"
     ]
    }
   ],
   "source": [
    "#Cat with contact in drinking water\n",
    "odds_ratio, p_value, confint = calc_odds_ratio(87, 32, 34, 327)\n",
    "\n",
    "print(\"The Fisher's Exact Associatio for Cat with Contact in Drinking Water =\")\n",
    "print(\"Odds ratio: \", \"{:.3f}\".format(odds_ratio))\n",
    "print(\"P-value: \", \"{:.3e}\".format(p_value))\n",
    "print(\"confint_lower\", \"{:.3f}\".format(confint[0]))\n",
    "print(\"confint_upper\", \"{:.3f}\".format(confint[1]))"
   ]
  },
  {
   "attachments": {},
   "cell_type": "markdown",
   "metadata": {},
   "source": [
    "The results indicate that there is a significant association between T. gondii infection among cattle and drinking water with cats. The odds of T. gondii infection among cattle drinking water with cats is 26.148 times higher compared to cattle not drinking water with cats. The p-value of 3.055e-40 indicates that the association is statistically significant. The confidence interval (0.584, 1.712) suggests that the true odds ratio is likely to lie between 0.584 and 1.712, with 95% confidence."
   ]
  },
  {
   "cell_type": "code",
   "execution_count": 8,
   "metadata": {},
   "outputs": [
    {
     "name": "stdout",
     "output_type": "stream",
     "text": [
      "The Fisher's Exact Associatio for Presence of Rats =\n",
      "Odds ratio:  7.868\n",
      "P-value:  3.008e-10\n",
      "confint_lower 0.452\n",
      "confint_upper 2.213\n"
     ]
    }
   ],
   "source": [
    "#Presence of rats\n",
    "odds_ratio, p_value, confint = calc_odds_ratio(112, 7, 242, 119)\n",
    "\n",
    "print(\"The Fisher's Exact Associatio for Presence of Rats =\")\n",
    "print(\"Odds ratio: \", \"{:.3f}\".format(odds_ratio))\n",
    "print(\"P-value: \", \"{:.3e}\".format(p_value))\n",
    "print(\"confint_lower\", \"{:.3f}\".format(confint[0]))\n",
    "print(\"confint_upper\", \"{:.3f}\".format(confint[1]))"
   ]
  },
  {
   "attachments": {},
   "cell_type": "markdown",
   "metadata": {},
   "source": [
    "The odds ratio of 7.868 suggests that cattle with the presence of rats on the farm are approximately 8 times more likely to be infected with T. gondii compared to cattle without the presence of rats on the farm.\n",
    "\n",
    "The p-value of 3.008e-10 is less than 0.05, indicating that the association between the presence of rats and T. gondii infection in cattle is statistically significant.\n",
    "\n",
    "The confidence interval of 0.452 to 2.213 shows that we can be confident (with 95% confidence) that the true odds ratio lies between these values."
   ]
  },
  {
   "cell_type": "code",
   "execution_count": 9,
   "metadata": {},
   "outputs": [
    {
     "name": "stdout",
     "output_type": "stream",
     "text": [
      "The Fisher's Exact Associatio for House Type =\n",
      "Odds ratio:  2.458\n",
      "P-value:  4.405e-03\n",
      "confint_lower 0.524\n",
      "confint_upper 1.910\n"
     ]
    }
   ],
   "source": [
    "#House type\n",
    "odds_ratio, p_value, confint = calc_odds_ratio(107, 12, 283, 78)\n",
    "\n",
    "print(\"The Fisher's Exact Associatio for House Type =\")\n",
    "print(\"Odds ratio: \", \"{:.3f}\".format(odds_ratio))\n",
    "print(\"P-value: \", \"{:.3e}\".format(p_value))\n",
    "print(\"confint_lower\", \"{:.3f}\".format(confint[0]))\n",
    "print(\"confint_upper\", \"{:.3f}\".format(confint[1]))"
   ]
  },
  {
   "attachments": {},
   "cell_type": "markdown",
   "metadata": {},
   "source": [
    "The results show that cattle living in a pen house are more likely to be infected with T. gondii compared to cattle living in a fence house. The odds ratio of 2.458 indicates that the odds of T. gondii infection are approximately 2.5 times higher for cattle living in a pen house compared to those living in a fence house. The statistical significance of this association is indicated by the p-value of 4.405e-03, which is less than 0.05. The 95% confidence interval of 0.524 to 1.910 provides a range within which we can be confident that the true odds ratio lies."
   ]
  },
  {
   "cell_type": "code",
   "execution_count": 10,
   "metadata": {},
   "outputs": [
    {
     "name": "stdout",
     "output_type": "stream",
     "text": [
      "The Fisher's Exact Associatio for Water Source =\n",
      "Odds ratio:  0.599\n",
      "P-value:  2.079e-02\n",
      "confint_lower 0.656\n",
      "confint_upper 1.525\n"
     ]
    }
   ],
   "source": [
    "#Water source\n",
    "odds_ratio, p_value, confint = calc_odds_ratio(65, 54, 241, 120)\n",
    "\n",
    "print(\"The Fisher's Exact Associatio for Water Source =\")\n",
    "print(\"Odds ratio: \", \"{:.3f}\".format(odds_ratio))\n",
    "print(\"P-value: \", \"{:.3e}\".format(p_value))\n",
    "print(\"confint_lower\", \"{:.3f}\".format(confint[0]))\n",
    "print(\"confint_upper\", \"{:.3f}\".format(confint[1]))"
   ]
  },
  {
   "attachments": {},
   "cell_type": "markdown",
   "metadata": {},
   "source": [
    "The odds ratio of 0.599 suggests that cattle drinking water from a well are approximately 60% less likely to be infected with T. gondii compared to cattle drinking water from a pond.\n",
    "\n",
    "The p-value of 2.079e-02 is less than 0.05, indicating that the association between drinking water source and T. gondii infection in cattle is statistically significant.\n",
    "\n",
    "The confidence interval of 0.656 to 1.525 shows that we can be confident (with 95% confidence) that the true odds ratio lies between these values."
   ]
  }
 ],
 "metadata": {
  "kernelspec": {
   "display_name": "Python 3",
   "language": "python",
   "name": "python3"
  },
  "language_info": {
   "codemirror_mode": {
    "name": "ipython",
    "version": 3
   },
   "file_extension": ".py",
   "mimetype": "text/x-python",
   "name": "python",
   "nbconvert_exporter": "python",
   "pygments_lexer": "ipython3",
   "version": "3.10.9"
  },
  "orig_nbformat": 4,
  "vscode": {
   "interpreter": {
    "hash": "e7370f93d1d0cde622a1f8e1c04877d8463912d04d973331ad4851f04de6915a"
   }
  }
 },
 "nbformat": 4,
 "nbformat_minor": 2
}
