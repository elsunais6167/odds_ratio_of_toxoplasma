{
 "cells": [
  {
   "cell_type": "code",
   "execution_count": 1,
   "metadata": {},
   "outputs": [],
   "source": [
    "import numpy as np\n",
    "from scipy.stats import fisher_exact, norm"
   ]
  },
  {
   "cell_type": "code",
   "execution_count": 2,
   "metadata": {},
   "outputs": [],
   "source": [
    "def calc_odds_ratio(a, b, c, d):\n",
    "    odds_ratio = (a * d) / (b * c)\n",
    "    p_value = fisher_exact([[a, b], [c, d]])[1]\n",
    "    se = np.sqrt(1/a + 1/b + 1/c + 1/d)\n",
    "    z = np.log(odds_ratio) / se\n",
    "    confint = np.exp(norm.ppf(0.025) * se), np.exp(norm.ppf(0.975) * se)\n",
    "    return odds_ratio, p_value, confint"
   ]
  },
  {
   "cell_type": "code",
   "execution_count": 14,
   "metadata": {},
   "outputs": [
    {
     "name": "stdout",
     "output_type": "stream",
     "text": [
      "The Fisher's Exact Associatio for age =\n",
      "Odds ratio:  7.296\n",
      "P-value:  1.179e-18\n",
      "confint_lower 0.627\n",
      "confint_upper 1.595\n"
     ]
    }
   ],
   "source": [
    "#Age\n",
    "odds_ratio, p_value, confint = calc_odds_ratio(87, 32, 98, 263)\n",
    "\n",
    "print(\"The Fisher's Exact Associatio for age =\")\n",
    "print(\"Odds ratio: \", \"{:.3f}\".format(odds_ratio))\n",
    "print(\"P-value: \", \"{:.3e}\".format(p_value))\n",
    "print(\"confint_lower\", \"{:.3f}\".format(confint[0]))\n",
    "print(\"confint_upper\", \"{:.3f}\".format(confint[1]))"
   ]
  },
  {
   "attachments": {},
   "cell_type": "markdown",
   "metadata": {},
   "source": [
    "The Fisher's exact odds ratio of 7.296 indicates that the odds of being a positive case in the group with less than 1 year is 7 times higher compared to the group with greater than 1 year.\n",
    "\n",
    "The p-value of 1.179e-18 is extremely small, which suggests strong evidence against the null hypothesis. In other words, the association between the two groups is statistically significant.\n",
    "\n",
    "The confidence interval provides a range of values that is likely to contain the true proportion of positive cases with a certain level of confidence, in this case 95% (as defined by the alpha value of 0.05). The lower and upper bounds of the confidence interval are 0.627 and 1.595 respectively, indicating that the true proportion of positive cases in the two groups are likely to be between these values."
   ]
  },
  {
   "cell_type": "code",
   "execution_count": 15,
   "metadata": {},
   "outputs": [
    {
     "name": "stdout",
     "output_type": "stream",
     "text": [
      "The Fisher's Exact Associatio for sex =\n",
      "Odds ratio:  0.745\n",
      "P-value:  2.733e-01\n",
      "confint_lower 0.607\n",
      "confint_upper 1.648\n"
     ]
    }
   ],
   "source": [
    "#Sex\n",
    "odds_ratio, p_value, confint = calc_odds_ratio(25, 94, 95, 266)\n",
    "\n",
    "print(\"The Fisher's Exact Associatio for sex =\")\n",
    "print(\"Odds ratio: \", \"{:.3f}\".format(odds_ratio))\n",
    "print(\"P-value: \", \"{:.3e}\".format(p_value))\n",
    "print(\"confint_lower\", \"{:.3f}\".format(confint[0]))\n",
    "print(\"confint_upper\", \"{:.3f}\".format(confint[1]))"
   ]
  },
  {
   "cell_type": "code",
   "execution_count": null,
   "metadata": {},
   "outputs": [],
   "source": []
  }
 ],
 "metadata": {
  "kernelspec": {
   "display_name": "Python 3",
   "language": "python",
   "name": "python3"
  },
  "language_info": {
   "codemirror_mode": {
    "name": "ipython",
    "version": 3
   },
   "file_extension": ".py",
   "mimetype": "text/x-python",
   "name": "python",
   "nbconvert_exporter": "python",
   "pygments_lexer": "ipython3",
   "version": "3.10.9"
  },
  "orig_nbformat": 4,
  "vscode": {
   "interpreter": {
    "hash": "e7370f93d1d0cde622a1f8e1c04877d8463912d04d973331ad4851f04de6915a"
   }
  }
 },
 "nbformat": 4,
 "nbformat_minor": 2
}
