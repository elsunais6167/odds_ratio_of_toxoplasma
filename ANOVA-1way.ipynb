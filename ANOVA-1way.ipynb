{
 "cells": [
  {
   "cell_type": "code",
   "execution_count": 1,
   "metadata": {},
   "outputs": [],
   "source": [
    "import pandas as pd\n",
    "import statsmodels.api as sm\n",
    "from statsmodels.formula.api import ols\n"
   ]
  },
  {
   "cell_type": "code",
   "execution_count": 2,
   "metadata": {},
   "outputs": [
    {
     "name": "stdout",
     "output_type": "stream",
     "text": [
      "              df        sum_sq      mean_sq         F    PR(>F)\n",
      "C(species)   2.0   6610.666667  3305.333333  3.450724  0.040341\n",
      "Residual    45.0  43104.000000   957.866667       NaN       NaN\n"
     ]
    }
   ],
   "source": [
    "# Creating a pandas dataframe for a One-Way ANOVA\n",
    "data = {\"species\": [\"cattle\"]*16 + [\"sheep\"]*16 + [\"goat\"]*16,\n",
    "        \"T_gondii_positive\": [87,32,25,94,106,13,114,5,87,32,112,7,107,12,65,54, \n",
    "                     87,32,29,42,63,8,57,14,55,16,68,3,64,7,37,34, \n",
    "                     47,24,10,53,59,4,59,4,52,11,60,3,54,9,38,25]}\n",
    "\n",
    "\n",
    "df = pd.DataFrame(data)\n",
    "\n",
    "# Fit the one-way ANOVA model using the ols method\n",
    "model = ols(\"T_gondii_positive ~ C(species)\", data=df).fit()\n",
    "aov_table = sm.stats.anova_lm(model, typ=1)\n",
    "print(aov_table)"
   ]
  },
  {
   "attachments": {},
   "cell_type": "markdown",
   "metadata": {},
   "source": [
    "The F-value is 3.450724 and the PR(>F) is 0.040341, which indicates that there is a significant difference in the mean of T. gondii positive results across the three species of cattle, sheep, and goat at (p < 0.05)."
   ]
  }
 ],
 "metadata": {
  "kernelspec": {
   "display_name": "Python 3",
   "language": "python",
   "name": "python3"
  },
  "language_info": {
   "codemirror_mode": {
    "name": "ipython",
    "version": 3
   },
   "file_extension": ".py",
   "mimetype": "text/x-python",
   "name": "python",
   "nbconvert_exporter": "python",
   "pygments_lexer": "ipython3",
   "version": "3.10.9 (main, Dec  7 2022, 13:47:07) [GCC 12.2.0]"
  },
  "orig_nbformat": 4,
  "vscode": {
   "interpreter": {
    "hash": "e7370f93d1d0cde622a1f8e1c04877d8463912d04d973331ad4851f04de6915a"
   }
  }
 },
 "nbformat": 4,
 "nbformat_minor": 2
}
