{
 "cells": [
  {
   "cell_type": "code",
   "execution_count": 4,
   "metadata": {},
   "outputs": [],
   "source": [
    "import numpy as np\n",
    "import statsmodels.stats.proportion as smp\n",
    "\n"
   ]
  },
  {
   "cell_type": "code",
   "execution_count": 5,
   "metadata": {},
   "outputs": [
    {
     "name": "stdout",
     "output_type": "stream",
     "text": [
      "Odds Ratio:  13.770149750780861\n",
      "p-value:  1.9270670779642502e-43\n"
     ]
    }
   ],
   "source": [
    "#Age\n",
    "positive = [87, 32]\n",
    "negative = [98, 263]\n",
    "odds_ratio, p_value = smp.proportions_ztest(positive, negative, alternative='larger')\n",
    "\n",
    "print(\"Odds Ratio: \", odds_ratio)\n",
    "print(\"p-value: \", p_value)"
   ]
  },
  {
   "cell_type": "code",
   "execution_count": 6,
   "metadata": {},
   "outputs": [
    {
     "name": "stdout",
     "output_type": "stream",
     "text": [
      "Odds ratio:  7586.772766844802\n",
      "P-value:  4.102773813063259e-19\n",
      "Confidence Interval:  (array([0.39834804, 0.07298769]), array([0.5421925 , 0.14396147]))\n"
     ]
    }
   ],
   "source": [
    "import statsmodels.stats.proportion as smp\n",
    "import numpy as np\n",
    "\n",
    "# Define the data\n",
    "positive_less_1_year = 87\n",
    "negative_less_1_year = 98\n",
    "positive_more_1_year = 32\n",
    "negative_more_1_year = 263\n",
    "\n",
    "# Calculate the odds ratio and p-value\n",
    "z_score, p_value = smp.proportions_ztest([positive_less_1_year, positive_more_1_year], [positive_less_1_year + negative_less_1_year, positive_more_1_year + negative_more_1_year])\n",
    "\n",
    "# Calculate the confidence interval\n",
    "confidence_interval = smp.proportion_confint([positive_less_1_year, positive_more_1_year], [positive_less_1_year + negative_less_1_year, positive_more_1_year + negative_more_1_year], alpha=0.05, method='normal')\n",
    "\n",
    "print(\"Odds ratio: \", np.exp(z_score))\n",
    "print(\"P-value: \", p_value)\n",
    "print(\"Confidence Interval: \", confidence_interval)"
   ]
  },
  {
   "cell_type": "code",
   "execution_count": 7,
   "metadata": {},
   "outputs": [
    {
     "name": "stdout",
     "output_type": "stream",
     "text": [
      "Odds ratio:  7.296237244897959\n",
      "P-value:  1.1787802515137342e-18\n",
      "Confidence Interval:  (0.6269363739698994, 1.595058193334324)\n"
     ]
    }
   ],
   "source": [
    "import numpy as np\n",
    "from scipy.stats import fisher_exact, norm\n",
    "\n",
    "def calc_odds_ratio(a, b, c, d):\n",
    "    odds_ratio = (a * d) / (b * c)\n",
    "    p_value = fisher_exact([[a, b], [c, d]])[1]\n",
    "    se = np.sqrt(1/a + 1/b + 1/c + 1/d)\n",
    "    z = np.log(odds_ratio) / se\n",
    "    confint = np.exp(norm.ppf(0.025) * se), np.exp(norm.ppf(0.975) * se)\n",
    "    return odds_ratio, p_value, confint\n",
    "\n",
    "odds_ratio, p_value, confint = calc_odds_ratio(87, 32, 98, 263)\n",
    "print(\"Odds ratio: \", odds_ratio)\n",
    "print(\"P-value: \", p_value)\n",
    "print(\"Confidence Interval: \", confint)"
   ]
  }
 ],
 "metadata": {
  "kernelspec": {
   "display_name": "Python 3",
   "language": "python",
   "name": "python3"
  },
  "language_info": {
   "codemirror_mode": {
    "name": "ipython",
    "version": 3
   },
   "file_extension": ".py",
   "mimetype": "text/x-python",
   "name": "python",
   "nbconvert_exporter": "python",
   "pygments_lexer": "ipython3",
   "version": "3.10.9"
  },
  "orig_nbformat": 4,
  "vscode": {
   "interpreter": {
    "hash": "e7370f93d1d0cde622a1f8e1c04877d8463912d04d973331ad4851f04de6915a"
   }
  }
 },
 "nbformat": 4,
 "nbformat_minor": 2
}
