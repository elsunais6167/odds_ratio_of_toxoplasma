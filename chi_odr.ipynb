{
 "cells": [
  {
   "cell_type": "code",
   "execution_count": 1,
   "metadata": {},
   "outputs": [],
   "source": [
    "import numpy as np\n",
    "import statsmodels.stats.proportion as smp\n",
    "\n"
   ]
  },
  {
   "cell_type": "code",
   "execution_count": 2,
   "metadata": {},
   "outputs": [
    {
     "name": "stdout",
     "output_type": "stream",
     "text": [
      "Odds Ratio:  13.770149750780861\n",
      "p-value:  1.9270670779642502e-43\n"
     ]
    }
   ],
   "source": [
    "#Age\n",
    "positive = [87, 32]\n",
    "negative = [98, 263]\n",
    "odds_ratio, p_value = smp.proportions_ztest(positive, negative, alternative='larger')\n",
    "\n",
    "print(\"Odds Ratio: \", odds_ratio)\n",
    "print(\"p-value: \", p_value)"
   ]
  },
  {
   "cell_type": "code",
   "execution_count": 3,
   "metadata": {},
   "outputs": [
    {
     "name": "stdout",
     "output_type": "stream",
     "text": [
      "Odds Ratio:  -1.6058488435926492\n",
      "p-value:  0.9458464370975677\n"
     ]
    }
   ],
   "source": [
    "#sex\n",
    "positive = [25, 94]\n",
    "negative = [95, 266]\n",
    "odds_ratio, p_value = smp.proportions_ztest(positive, negative, alternative='larger')\n",
    "\n",
    "print(\"Odds Ratio: \", odds_ratio)\n",
    "print(\"p-value: \", p_value)"
   ]
  },
  {
   "cell_type": "code",
   "execution_count": 4,
   "metadata": {},
   "outputs": [
    {
     "name": "stdout",
     "output_type": "stream",
     "text": [
      "Odds Ratio:  27.073417016660983\n",
      "p-value:  1.0124720808157556e-161\n"
     ]
    }
   ],
   "source": [
    "#presence of cat\n",
    "positive = [106, 13]\n",
    "negative = [56, 305]\n",
    "odds_ratio, p_value = smp.proportions_ztest(positive, negative, alternative='larger')\n",
    "\n",
    "print(\"Odds Ratio: \", odds_ratio)\n",
    "print(\"p-value: \", p_value)"
   ]
  },
  {
   "cell_type": "code",
   "execution_count": 5,
   "metadata": {},
   "outputs": [
    {
     "name": "stdout",
     "output_type": "stream",
     "text": [
      "Odds Ratio:  42.22802912820749\n",
      "p-value:  0.0\n"
     ]
    }
   ],
   "source": [
    "#cat in contact with cattle\n",
    "positive = [114, 5]\n",
    "negative = [30, 331]\n",
    "odds_ratio, p_value = smp.proportions_ztest(positive, negative, alternative='larger')\n",
    "\n",
    "print(\"Odds Ratio: \", odds_ratio)\n",
    "print(\"p-value: \", p_value)"
   ]
  },
  {
   "cell_type": "code",
   "execution_count": 6,
   "metadata": {},
   "outputs": [
    {
     "name": "stdout",
     "output_type": "stream",
     "text": [
      "Odds Ratio:  29.053005646803218\n",
      "p-value:  7.049925344266416e-186\n"
     ]
    }
   ],
   "source": [
    "#Cat contact with drinking water\n",
    "positive = [87, 32]\n",
    "negative = [34, 327]\n",
    "odds_ratio, p_value = smp.proportions_ztest(positive, negative, alternative='larger')\n",
    "\n",
    "print(\"Odds Ratio: \", odds_ratio)\n",
    "print(\"p-value: \", p_value)"
   ]
  },
  {
   "cell_type": "code",
   "execution_count": 7,
   "metadata": {},
   "outputs": [
    {
     "name": "stdout",
     "output_type": "stream",
     "text": [
      "Odds Ratio:  7.675741370928536\n",
      "p-value:  8.22323275271998e-15\n"
     ]
    }
   ],
   "source": [
    "#Presence of rats\n",
    "positive = [112, 7]\n",
    "negative = [242, 119]\n",
    "odds_ratio, p_value = smp.proportions_ztest(positive, negative, alternative='larger')\n",
    "\n",
    "print(\"Odds Ratio: \", odds_ratio)\n",
    "print(\"p-value: \", p_value)"
   ]
  },
  {
   "cell_type": "code",
   "execution_count": 8,
   "metadata": {},
   "outputs": [
    {
     "name": "stdout",
     "output_type": "stream",
     "text": [
      "Odds Ratio:  3.730242940099198\n",
      "p-value:  9.564761438931152e-05\n"
     ]
    }
   ],
   "source": [
    "#House type\n",
    "positive = [107, 12]\n",
    "negative = [283, 78]\n",
    "odds_ratio, p_value = smp.proportions_ztest(positive, negative, alternative='larger')\n",
    "\n",
    "print(\"Odds Ratio: \", odds_ratio)\n",
    "print(\"p-value: \", p_value)"
   ]
  },
  {
   "cell_type": "code",
   "execution_count": 9,
   "metadata": {},
   "outputs": [
    {
     "name": "stdout",
     "output_type": "stream",
     "text": [
      "Odds Ratio:  -3.432766946394759\n",
      "p-value:  0.9997012722939548\n"
     ]
    }
   ],
   "source": [
    "#Water source\n",
    "positive = [65, 54]\n",
    "negative = [241, 120]\n",
    "odds_ratio, p_value = smp.proportions_ztest(positive, negative, alternative='larger')\n",
    "\n",
    "print(\"Odds Ratio: \", odds_ratio)\n",
    "print(\"p-value: \", p_value)"
   ]
  },
  {
   "cell_type": "code",
   "execution_count": 2,
   "metadata": {},
   "outputs": [
    {
     "name": "stdout",
     "output_type": "stream",
     "text": [
      "Odds ratio:  7586.772766844802\n",
      "P-value:  4.102773813063259e-19\n",
      "Confidence Interval:  (array([0.39834804, 0.07298769]), array([0.5421925 , 0.14396147]))\n"
     ]
    }
   ],
   "source": [
    "import statsmodels.api as sm\n",
    "import numpy as np\n",
    "\n",
    "import statsmodels.stats.proportion as smp\n",
    "\n",
    "# Define the data\n",
    "positive_less_1_year = 87\n",
    "negative_less_1_year = 98\n",
    "positive_more_1_year = 32\n",
    "negative_more_1_year = 263\n",
    "\n",
    "# Calculate the odds ratio and p-value\n",
    "z_score, p_value = smp.proportions_ztest([positive_less_1_year, positive_more_1_year], [positive_less_1_year + negative_less_1_year, positive_more_1_year + negative_more_1_year])\n",
    "\n",
    "# Calculate the confidence interval\n",
    "confidence_interval = smp.proportion_confint([positive_less_1_year, positive_more_1_year], [positive_less_1_year + negative_less_1_year, positive_more_1_year + negative_more_1_year], alpha=0.05, method='normal')\n",
    "\n",
    "print(\"Odds ratio: \", np.exp(z_score))\n",
    "print(\"P-value: \", p_value)\n",
    "print(\"Confidence Interval: \", confidence_interval)"
   ]
  },
  {
   "cell_type": "code",
   "execution_count": 3,
   "metadata": {},
   "outputs": [
    {
     "name": "stdout",
     "output_type": "stream",
     "text": [
      "Odds ratio:  7.296237244897959\n",
      "P-value:  1.1787802515137342e-18\n",
      "Confidence Interval:  (0.6269363739698994, 1.595058193334324)\n"
     ]
    }
   ],
   "source": [
    "import numpy as np\n",
    "from scipy.stats import fisher_exact, norm\n",
    "\n",
    "def calc_odds_ratio(a, b, c, d):\n",
    "    odds_ratio = (a * d) / (b * c)\n",
    "    p_value = fisher_exact([[a, b], [c, d]])[1]\n",
    "    se = np.sqrt(1/a + 1/b + 1/c + 1/d)\n",
    "    z = np.log(odds_ratio) / se\n",
    "    confint = np.exp(norm.ppf(0.025) * se), np.exp(norm.ppf(0.975) * se)\n",
    "    return odds_ratio, p_value, confint\n",
    "\n",
    "odds_ratio, p_value, confint = calc_odds_ratio(87, 32, 98, 263)\n",
    "print(\"Odds ratio: \", odds_ratio)\n",
    "print(\"P-value: \", p_value)\n",
    "print(\"Confidence Interval: \", confint)"
   ]
  }
 ],
 "metadata": {
  "kernelspec": {
   "display_name": "Python 3",
   "language": "python",
   "name": "python3"
  },
  "language_info": {
   "codemirror_mode": {
    "name": "ipython",
    "version": 3
   },
   "file_extension": ".py",
   "mimetype": "text/x-python",
   "name": "python",
   "nbconvert_exporter": "python",
   "pygments_lexer": "ipython3",
   "version": "3.10.9"
  },
  "orig_nbformat": 4,
  "vscode": {
   "interpreter": {
    "hash": "e7370f93d1d0cde622a1f8e1c04877d8463912d04d973331ad4851f04de6915a"
   }
  }
 },
 "nbformat": 4,
 "nbformat_minor": 2
}
