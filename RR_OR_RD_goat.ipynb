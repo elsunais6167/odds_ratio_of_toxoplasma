{
 "cells": [
  {
   "cell_type": "code",
   "execution_count": 1,
   "metadata": {},
   "outputs": [],
   "source": [
    "import math\n",
    "from scipy.stats import norm\n",
    "\n",
    "def calculate_statistics(a, b, c, d, alpha=0.05):\n",
    "    # Calculate the risk ratio\n",
    "    RR = (a / (a + b)) / (c / (c + d))\n",
    "\n",
    "    # Calculate the odds ratio\n",
    "    OR = (a * d) / (b * c)\n",
    "\n",
    "    # Calculate the risk difference\n",
    "    RD = (a / (a + b)) - (c / (c + d))\n",
    "\n",
    "    # Calculate the standard errors for RR and OR\n",
    "    SE_RR = math.sqrt(1/a + 1/b + 1/c + 1/d)\n",
    "    SE_OR = math.sqrt((1/a) + (1/b) + (1/c) + (1/d))\n",
    "\n",
    "    # Calculate the confidence intervals for RR and OR\n",
    "    z = abs(norm.ppf(alpha/2))\n",
    "    CI_RR = (math.exp(math.log(RR) - z*SE_RR), math.exp(math.log(RR) + z*SE_RR))\n",
    "    CI_OR = (math.exp(math.log(OR) - z*SE_OR), math.exp(math.log(OR) + z*SE_OR))\n",
    "\n",
    "    # Calculate the p-values for RR and OR using the two-tailed z-test\n",
    "    z_RR = (math.log(RR) - 0) / SE_RR\n",
    "    p_RR = 2 * (1 - norm.cdf(abs(z_RR)))\n",
    "\n",
    "    z_OR = (math.log(OR) - 0) / SE_OR\n",
    "    p_OR = 2 * (1 - norm.cdf(abs(z_OR)))\n",
    "\n",
    "    # Create a dictionary to store the results\n",
    "    results = {\n",
    "        'Risk Ratio': RR,\n",
    "        'Odds Ratio': OR,\n",
    "        'Risk Difference': RD,\n",
    "        '95% CI for Risk Ratio': CI_RR,\n",
    "        '95% CI for Odds Ratio': CI_OR,\n",
    "        'p-value for Risk Ratio': p_RR,\n",
    "        'p-value for Odds Ratio': p_OR\n",
    "    }\n",
    "\n",
    "    return results\n"
   ]
  },
  {
   "cell_type": "code",
   "execution_count": 2,
   "metadata": {},
   "outputs": [
    {
     "data": {
      "text/plain": [
       "{'Risk Ratio': 2.4629014396456252,\n",
       " 'Odds Ratio': 7.144186046511628,\n",
       " 'Risk Difference': 0.45255224391915033,\n",
       " '95% CI for Risk Ratio': (1.3304424520150415, 4.55929791793799),\n",
       " '95% CI for Odds Ratio': (3.859240263686797, 13.225244032464733),\n",
       " 'p-value for Risk Ratio': 0.004122327933019809,\n",
       " 'p-value for Odds Ratio': 3.8986480710434535e-10}"
      ]
     },
     "execution_count": 2,
     "metadata": {},
     "output_type": "execute_result"
    }
   ],
   "source": [
    "#age\n",
    "results = calculate_statistics(48, 15, 129, 288)\n",
    "results"
   ]
  },
  {
   "cell_type": "code",
   "execution_count": 3,
   "metadata": {},
   "outputs": [
    {
     "data": {
      "text/plain": [
       "{'Risk Ratio': 0.5963105963105962,\n",
       " 'Odds Ratio': 0.5201427842937277,\n",
       " 'Risk Difference': -0.10745689162955352,\n",
       " '95% CI for Risk Ratio': (0.29323712631688786, 1.2126238302036594),\n",
       " '95% CI for Odds Ratio': (0.25578142713619134, 1.0577332337299739),\n",
       " 'p-value for Risk Ratio': 0.15340425640926392,\n",
       " 'p-value for Odds Ratio': 0.07107883179550667}"
      ]
     },
     "execution_count": 3,
     "metadata": {},
     "output_type": "execute_result"
    }
   ],
   "source": [
    "#sex\n",
    "results = calculate_statistics(10, 53, 111, 306)\n",
    "results"
   ]
  },
  {
   "cell_type": "code",
   "execution_count": 4,
   "metadata": {},
   "outputs": [
    {
     "data": {
      "text/plain": [
       "{'Risk Ratio': 4.291470434327577,\n",
       " 'Odds Ratio': 52.84065934065934,\n",
       " 'Risk Difference': 0.718282516843668,\n",
       " '95% CI for Risk Ratio': (1.5183939941013869, 12.129077538670767),\n",
       " '95% CI for Odds Ratio': (18.695908783485777, 149.3447209167987),\n",
       " 'p-value for Risk Ratio': 0.005998914194461413,\n",
       " 'p-value for Odds Ratio': 7.216449660063518e-14}"
      ]
     },
     "execution_count": 4,
     "metadata": {},
     "output_type": "execute_result"
    }
   ],
   "source": [
    "#Presence of Cat\n",
    "results = calculate_statistics(59, 4, 91, 326)\n",
    "results"
   ]
  },
  {
   "cell_type": "code",
   "execution_count": 5,
   "metadata": {},
   "outputs": [
    {
     "data": {
      "text/plain": [
       "{'Risk Ratio': 7.231922398589066,\n",
       " 'Odds Ratio': 99.15277777777777,\n",
       " 'Risk Difference': 0.8070115336302387,\n",
       " '95% CI for Risk Ratio': (2.5250771895766104, 20.712515955990913),\n",
       " '95% CI for Odds Ratio': (34.61989823047211, 283.97753441100474),\n",
       " 'p-value for Risk Ratio': 0.00022843076497069958,\n",
       " 'p-value for Odds Ratio': 0.0}"
      ]
     },
     "execution_count": 5,
     "metadata": {},
     "output_type": "execute_result"
    }
   ],
   "source": [
    "#Cat Contact with Goat\n",
    "results = calculate_statistics(59, 4, 54, 363)\n",
    "results"
   ]
  },
  {
   "cell_type": "code",
   "execution_count": 6,
   "metadata": {},
   "outputs": [
    {
     "data": {
      "text/plain": [
       "{'Risk Ratio': 5.93431855500821,\n",
       " 'Odds Ratio': 29.260188087774296,\n",
       " 'Risk Difference': 0.6863080963800388,\n",
       " '95% CI for Risk Ratio': (2.925964143151908, 12.035737619935142),\n",
       " '95% CI for Odds Ratio': (14.426974280720888, 59.34429425552065),\n",
       " 'p-value for Risk Ratio': 7.984194738686057e-07,\n",
       " 'p-value for Odds Ratio': 0.0}"
      ]
     },
     "execution_count": 6,
     "metadata": {},
     "output_type": "execute_result"
    }
   ],
   "source": [
    "#Contact with Goat in Driking Water\n",
    "results = calculate_statistics(52, 11, 58, 359)\n",
    "results"
   ]
  },
  {
   "cell_type": "code",
   "execution_count": 7,
   "metadata": {},
   "outputs": [
    {
     "data": {
      "text/plain": [
       "{'Risk Ratio': 1.364752086401571,\n",
       " 'Odds Ratio': 8.65979381443299,\n",
       " 'Risk Difference': 0.2545392257622473,\n",
       " '95% CI for Risk Ratio': (0.4201069807360931, 4.433509421990478),\n",
       " '95% CI for Odds Ratio': (2.665714798627583, 28.13205259133527),\n",
       " 'p-value for Risk Ratio': 0.6049450070378419,\n",
       " 'p-value for Odds Ratio': 0.0003294404073079793}"
      ]
     },
     "execution_count": 7,
     "metadata": {},
     "output_type": "execute_result"
    }
   ],
   "source": [
    "#Presence of Rats\n",
    "results = calculate_statistics(60, 3, 291, 126)\n",
    "results"
   ]
  },
  {
   "cell_type": "code",
   "execution_count": 8,
   "metadata": {},
   "outputs": [
    {
     "data": {
      "text/plain": [
       "{'Risk Ratio': 1.0831168831168831,\n",
       " 'Odds Ratio': 1.5818181818181818,\n",
       " 'Risk Difference': 0.06577595066803699,\n",
       " '95% CI for Risk Ratio': (0.5146288973821412, 2.279588628739025),\n",
       " '95% CI for Odds Ratio': (0.7515803321480193, 3.3291833930505184),\n",
       " 'p-value for Risk Ratio': 0.8334398335590478,\n",
       " 'p-value for Odds Ratio': 0.22712242738527033}"
      ]
     },
     "execution_count": 8,
     "metadata": {},
     "output_type": "execute_result"
    }
   ],
   "source": [
    "#Housing Type\n",
    "results = calculate_statistics(54, 9, 330, 87)\n",
    "results"
   ]
  },
  {
   "cell_type": "code",
   "execution_count": 9,
   "metadata": {},
   "outputs": [
    {
     "data": {
      "text/plain": [
       "{'Risk Ratio': 0.7953016607105318,\n",
       " 'Odds Ratio': 0.5725417032484635,\n",
       " 'Risk Difference': -0.13412996315300119,\n",
       " '95% CI for Risk Ratio': (0.4783798904078404, 1.3221808529403085),\n",
       " '95% CI for Odds Ratio': (0.3443881118130944, 0.9518447086714676),\n",
       " 'p-value for Risk Ratio': 0.37717817127773134,\n",
       " 'p-value for Odds Ratio': 0.03153461194061169}"
      ]
     },
     "execution_count": 9,
     "metadata": {},
     "output_type": "execute_result"
    }
   ],
   "source": [
    "#Water Souce \n",
    "results = calculate_statistics(37, 34, 268, 141)\n",
    "results"
   ]
  }
 ],
 "metadata": {
  "kernelspec": {
   "display_name": "Python 3",
   "language": "python",
   "name": "python3"
  },
  "language_info": {
   "codemirror_mode": {
    "name": "ipython",
    "version": 3
   },
   "file_extension": ".py",
   "mimetype": "text/x-python",
   "name": "python",
   "nbconvert_exporter": "python",
   "pygments_lexer": "ipython3",
   "version": "3.11.2"
  },
  "orig_nbformat": 4
 },
 "nbformat": 4,
 "nbformat_minor": 2
}
