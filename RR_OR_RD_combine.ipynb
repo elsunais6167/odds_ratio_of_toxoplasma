{
 "cells": [
  {
   "cell_type": "code",
   "execution_count": 1,
   "metadata": {},
   "outputs": [],
   "source": [
    "import math\n",
    "from scipy.stats import norm\n",
    "\n",
    "def calculate_statistics(a, b, c, d, alpha=0.05):\n",
    "    # Calculate the risk ratio\n",
    "    RR = (a / (a + b)) / (c / (c + d))\n",
    "\n",
    "    # Calculate the odds ratio\n",
    "    OR = (a * d) / (b * c)\n",
    "\n",
    "    # Calculate the risk difference\n",
    "    RD = (a / (a + b)) - (c / (c + d))\n",
    "\n",
    "    # Calculate the standard errors for RR and OR\n",
    "    SE_RR = math.sqrt(1/a + 1/b + 1/c + 1/d)\n",
    "    SE_OR = math.sqrt((1/a) + (1/b) + (1/c) + (1/d))\n",
    "\n",
    "    # Calculate the confidence intervals for RR and OR\n",
    "    z = abs(norm.ppf(alpha/2))\n",
    "    CI_RR = (math.exp(math.log(RR) - z*SE_RR), math.exp(math.log(RR) + z*SE_RR))\n",
    "    CI_OR = (math.exp(math.log(OR) - z*SE_OR), math.exp(math.log(OR) + z*SE_OR))\n",
    "\n",
    "    # Calculate the p-values for RR and OR using the two-tailed z-test\n",
    "    z_RR = (math.log(RR) - 0) / SE_RR\n",
    "    p_RR = 2 * (1 - norm.cdf(abs(z_RR)))\n",
    "\n",
    "    z_OR = (math.log(OR) - 0) / SE_OR\n",
    "    p_OR = 2 * (1 - norm.cdf(abs(z_OR)))\n",
    "\n",
    "    # Create a dictionary to store the results\n",
    "    results = {\n",
    "        'Risk Ratio': RR,\n",
    "        'Odds Ratio': OR,\n",
    "        'Risk Difference': RD,\n",
    "        '95% CI for Risk Ratio': CI_RR,\n",
    "        '95% CI for Odds Ratio': CI_OR,\n",
    "        'p-value for Risk Ratio': p_RR,\n",
    "        'p-value for Odds Ratio': p_OR\n",
    "    }\n",
    "\n",
    "    return results\n"
   ]
  },
  {
   "cell_type": "code",
   "execution_count": 2,
   "metadata": {},
   "outputs": [
    {
     "data": {
      "text/plain": [
       "{'Risk Ratio': 2.7996371411909546,\n",
       " 'Odds Ratio': 7.412791503117063,\n",
       " 'Risk Difference': 0.4624172940718122,\n",
       " '95% CI for Risk Ratio': (2.0666053874055166, 3.7926776781395604),\n",
       " '95% CI for Odds Ratio': (5.471892993082234, 10.042133122514214),\n",
       " 'p-value for Risk Ratio': 3.001310311390171e-11,\n",
       " 'p-value for Odds Ratio': 0.0}"
      ]
     },
     "execution_count": 2,
     "metadata": {},
     "output_type": "execute_result"
    }
   ],
   "source": [
    "#age\n",
    "results = calculate_statistics(182, 71, 305, 882)\n",
    "results"
   ]
  },
  {
   "cell_type": "code",
   "execution_count": 3,
   "metadata": {},
   "outputs": [
    {
     "data": {
      "text/plain": [
       "{'Risk Ratio': 0.9562699831323481,\n",
       " 'Odds Ratio': 0.9414619350925083,\n",
       " 'Risk Difference': -0.011568007831880944,\n",
       " '95% CI for Risk Ratio': (0.7003782918686755, 1.3056548029209991),\n",
       " '95% CI for Odds Ratio': (0.6895327821538558, 1.2854364551885198),\n",
       " 'p-value for Risk Ratio': 0.7783881377614339,\n",
       " 'p-value for Odds Ratio': 0.7042118759454468}"
      ]
     },
     "execution_count": 3,
     "metadata": {},
     "output_type": "execute_result"
    }
   ],
   "source": [
    "#sex\n",
    "results = calculate_statistics(64, 189, 314, 873)\n",
    "results"
   ]
  },
  {
   "cell_type": "code",
   "execution_count": 4,
   "metadata": {},
   "outputs": [
    {
     "data": {
      "text/plain": [
       "{'Risk Ratio': 4.862306863097377,\n",
       " 'Odds Ratio': 40.08654545454545,\n",
       " 'Risk Difference': 0.7158445744578121,\n",
       " '95% CI for Risk Ratio': (3.1374260812409016, 7.535485273193449),\n",
       " '95% CI for Odds Ratio': (25.866029593990493, 62.125156110262836),\n",
       " 'p-value for Risk Ratio': 1.4925838343060605e-12,\n",
       " 'p-value for Odds Ratio': 0.0}"
      ]
     },
     "execution_count": 4,
     "metadata": {},
     "output_type": "execute_result"
    }
   ],
   "source": [
    "#Presence of Cat\n",
    "results = calculate_statistics(228, 25, 220, 967)\n",
    "results"
   ]
  },
  {
   "cell_type": "code",
   "execution_count": 5,
   "metadata": {},
   "outputs": [
    {
     "data": {
      "text/plain": [
       "{'Risk Ratio': 8.918106686701726,\n",
       " 'Odds Ratio': 88.09917355371901,\n",
       " 'Risk Difference': 0.8071532511296622,\n",
       " '95% CI for Risk Ratio': (5.584702446958707, 14.241157453018038),\n",
       " '95% CI for Odds Ratio': (55.169520550158204, 140.68391937160024),\n",
       " 'p-value for Risk Ratio': 0.0,\n",
       " 'p-value for Odds Ratio': 0.0}"
      ]
     },
     "execution_count": 5,
     "metadata": {},
     "output_type": "execute_result"
    }
   ],
   "source": [
    "#Cat Contact\n",
    "results = calculate_statistics(230, 23, 121, 1066)\n",
    "results"
   ]
  },
  {
   "cell_type": "code",
   "execution_count": 6,
   "metadata": {},
   "outputs": [
    {
     "data": {
      "text/plain": [
       "{'Risk Ratio': 7.055734289303552,\n",
       " 'Odds Ratio': 26.967809749047433,\n",
       " 'Risk Difference': 0.6581210811458788,\n",
       " '95% CI for Risk Ratio': (5.002127389779454, 9.952442727263065),\n",
       " '95% CI for Odds Ratio': (19.11869328647674, 38.039355083709296),\n",
       " 'p-value for Risk Ratio': 0.0,\n",
       " 'p-value for Odds Ratio': 0.0}"
      ]
     },
     "execution_count": 6,
     "metadata": {},
     "output_type": "execute_result"
    }
   ],
   "source": [
    "#Contact with animals in Driking Water\n",
    "results = calculate_statistics(194, 59, 129, 1058)\n",
    "results"
   ]
  },
  {
   "cell_type": "code",
   "execution_count": 7,
   "metadata": {},
   "outputs": [
    {
     "data": {
      "text/plain": [
       "{'Risk Ratio': 1.333201195844276,\n",
       " 'Odds Ratio': 6.561896884477529,\n",
       " 'Risk Difference': 0.23495316000139765,\n",
       " '95% CI for Risk Ratio': (0.7506769568725732, 2.3677634065199156),\n",
       " '95% CI for Odds Ratio': (3.69476475111606, 11.653919430055572),\n",
       " 'p-value for Risk Ratio': 0.3264190710558976,\n",
       " 'p-value for Odds Ratio': 1.3653789210366085e-10}"
      ]
     },
     "execution_count": 7,
     "metadata": {},
     "output_type": "execute_result"
    }
   ],
   "source": [
    "#Presence of Rats\n",
    "results = calculate_statistics(204, 13, 837, 350)\n",
    "results"
   ]
  },
  {
   "cell_type": "code",
   "execution_count": 8,
   "metadata": {},
   "outputs": [
    {
     "data": {
      "text/plain": [
       "{'Risk Ratio': 1.1449375391184313,\n",
       " 'Odds Ratio': 2.309614192748683,\n",
       " 'Risk Difference': 0.11257995877606874,\n",
       " '95% CI for Risk Ratio': (0.7554065547153691, 1.7353330604557686),\n",
       " '95% CI for Odds Ratio': (1.5238365766305189, 3.500583856007251),\n",
       " 'p-value for Risk Ratio': 0.5235214987055286,\n",
       " 'p-value for Odds Ratio': 7.970215324126784e-05}"
      ]
     },
     "execution_count": 8,
     "metadata": {},
     "output_type": "execute_result"
    }
   ],
   "source": [
    "#Housing Type\n",
    "results = calculate_statistics(225, 28, 922, 265)\n",
    "results"
   ]
  },
  {
   "cell_type": "code",
   "execution_count": 9,
   "metadata": {},
   "outputs": [
    {
     "data": {
      "text/plain": [
       "{'Risk Ratio': 0.8346098407420987,\n",
       " 'Odds Ratio': 0.6297016788296544,\n",
       " 'Risk Difference': -0.10965632294521344,\n",
       " '95% CI for Risk Ratio': (0.6336079244947078, 1.0993763798315141),\n",
       " '95% CI for Odds Ratio': (0.4780484896024367, 0.8294644015100852),\n",
       " 'p-value for Risk Ratio': 0.19843425505591616,\n",
       " 'p-value for Odds Ratio': 0.0010019478042930796}"
      ]
     },
     "execution_count": 9,
     "metadata": {},
     "output_type": "execute_result"
    }
   ],
   "source": [
    "#Water Souce \n",
    "results = calculate_statistics(140, 113, 787, 400)\n",
    "results"
   ]
  }
 ],
 "metadata": {
  "kernelspec": {
   "display_name": "Python 3",
   "language": "python",
   "name": "python3"
  },
  "language_info": {
   "codemirror_mode": {
    "name": "ipython",
    "version": 3
   },
   "file_extension": ".py",
   "mimetype": "text/x-python",
   "name": "python",
   "nbconvert_exporter": "python",
   "pygments_lexer": "ipython3",
   "version": "3.11.2"
  },
  "orig_nbformat": 4
 },
 "nbformat": 4,
 "nbformat_minor": 2
}
