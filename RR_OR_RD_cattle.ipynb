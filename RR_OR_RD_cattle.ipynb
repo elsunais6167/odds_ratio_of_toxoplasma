{
 "cells": [
  {
   "cell_type": "code",
   "execution_count": 1,
   "metadata": {},
   "outputs": [],
   "source": [
    "import math\n",
    "from scipy.stats import norm\n",
    "\n",
    "def calculate_statistics(a, b, c, d, alpha=0.05):\n",
    "    # Calculate the risk ratio\n",
    "    RR = (a / (a + b)) / (c / (c + d))\n",
    "\n",
    "    # Calculate the odds ratio\n",
    "    OR = (a * d) / (b * c)\n",
    "\n",
    "    # Calculate the risk difference\n",
    "    RD = (a / (a + b)) - (c / (c + d))\n",
    "\n",
    "    # Calculate the standard errors for RR and OR\n",
    "    SE_RR = math.sqrt(1/a + 1/b + 1/c + 1/d)\n",
    "    SE_OR = math.sqrt((1/a) + (1/b) + (1/c) + (1/d))\n",
    "\n",
    "    # Calculate the confidence intervals for RR and OR\n",
    "    z = abs(norm.ppf(alpha/2))\n",
    "    CI_RR = (math.exp(math.log(RR) - z*SE_RR), math.exp(math.log(RR) + z*SE_RR))\n",
    "    CI_OR = (math.exp(math.log(OR) - z*SE_OR), math.exp(math.log(OR) + z*SE_OR))\n",
    "\n",
    "    # Calculate the p-values for RR and OR using the two-tailed z-test\n",
    "    z_RR = (math.log(RR) - 0) / SE_RR\n",
    "    p_RR = 2 * (1 - norm.cdf(abs(z_RR)))\n",
    "\n",
    "    z_OR = (math.log(OR) - 0) / SE_OR\n",
    "    p_OR = 2 * (1 - norm.cdf(abs(z_OR)))\n",
    "\n",
    "    # Create a dictionary to store the results\n",
    "    results = {\n",
    "        'Risk Ratio': RR,\n",
    "        'Odds Ratio': OR,\n",
    "        'Risk Difference': RD,\n",
    "        '95% CI for Risk Ratio': CI_RR,\n",
    "        '95% CI for Odds Ratio': CI_OR,\n",
    "        'p-value for Risk Ratio': p_RR,\n",
    "        'p-value for Odds Ratio': p_OR\n",
    "    }\n",
    "\n",
    "    return results\n"
   ]
  },
  {
   "cell_type": "code",
   "execution_count": 2,
   "metadata": {},
   "outputs": [
    {
     "data": {
      "text/plain": [
       "{'Risk Ratio': 2.6931058137540727,\n",
       " 'Odds Ratio': 7.296237244897959,\n",
       " 'Risk Difference': 0.4596242929304685,\n",
       " '95% CI for Risk Ratio': (1.6884059935922338, 4.295660493744736),\n",
       " '95% CI for Odds Ratio': (4.574276521940456, 11.637922997985546),\n",
       " 'p-value for Risk Ratio': 3.2010235663681996e-05,\n",
       " 'p-value for Odds Ratio': 0.0}"
      ]
     },
     "execution_count": 2,
     "metadata": {},
     "output_type": "execute_result"
    }
   ],
   "source": [
    "#age\n",
    "results = calculate_statistics(87, 32, 98, 263)\n",
    "results"
   ]
  },
  {
   "cell_type": "code",
   "execution_count": 3,
   "metadata": {},
   "outputs": [
    {
     "data": {
      "text/plain": [
       "{'Risk Ratio': 0.7983193277310925,\n",
       " 'Odds Ratio': 0.7446808510638298,\n",
       " 'Risk Difference': -0.05307386112339671,\n",
       " '95% CI for Risk Ratio': (0.4844945173770747, 1.3154199401043207),\n",
       " '95% CI for Odds Ratio': (0.4519416942610338, 1.227037861261925),\n",
       " 'p-value for Risk Ratio': 0.37669257921392885,\n",
       " 'p-value for Odds Ratio': 0.24728240921332523}"
      ]
     },
     "execution_count": 3,
     "metadata": {},
     "output_type": "execute_result"
    }
   ],
   "source": [
    "#sex\n",
    "results = calculate_statistics(25, 94, 95, 266)\n",
    "results"
   ]
  },
  {
   "cell_type": "code",
   "execution_count": 4,
   "metadata": {},
   "outputs": [
    {
     "data": {
      "text/plain": [
       "{'Risk Ratio': 5.742196878751502,\n",
       " 'Odds Ratio': 44.40934065934066,\n",
       " 'Risk Difference': 0.7356316487813963,\n",
       " '95% CI for Risk Ratio': (3.019967323533583, 10.918272107581242),\n",
       " '95% CI for Odds Ratio': (23.356001280130275, 84.44037633596015),\n",
       " 'p-value for Risk Ratio': 9.764948272206198e-08,\n",
       " 'p-value for Odds Ratio': 0.0}"
      ]
     },
     "execution_count": 4,
     "metadata": {},
     "output_type": "execute_result"
    }
   ],
   "source": [
    "#Presence of Cat\n",
    "results = calculate_statistics(106, 13, 56, 305)\n",
    "results"
   ]
  },
  {
   "cell_type": "code",
   "execution_count": 5,
   "metadata": {},
   "outputs": [
    {
     "data": {
      "text/plain": [
       "{'Risk Ratio': 11.527731092436976,\n",
       " 'Odds Ratio': 251.56,\n",
       " 'Risk Difference': 0.8748807002025187,\n",
       " '95% CI for Risk Ratio': (4.368294290569739, 30.421161052820466),\n",
       " '95% CI for Odds Ratio': (95.32561984002855, 663.8554641050116),\n",
       " 'p-value for Risk Ratio': 7.89770913334209e-07,\n",
       " 'p-value for Odds Ratio': 0.0}"
      ]
     },
     "execution_count": 5,
     "metadata": {},
     "output_type": "execute_result"
    }
   ],
   "source": [
    "#Cat Contact with Cattle\n",
    "results = calculate_statistics(114, 5, 30, 331)\n",
    "results"
   ]
  },
  {
   "cell_type": "code",
   "execution_count": 6,
   "metadata": {},
   "outputs": [
    {
     "data": {
      "text/plain": [
       "{'Risk Ratio': 7.762481463173504,\n",
       " 'Odds Ratio': 26.14797794117647,\n",
       " 'Risk Difference': 0.6369096114900253,\n",
       " '95% CI for Risk Ratio': (4.534787171129101, 13.287529533852261),\n",
       " '95% CI for Odds Ratio': (15.275465130725994, 44.75914445557419),\n",
       " 'p-value for Risk Ratio': 7.882583474838611e-14,\n",
       " 'p-value for Odds Ratio': 0.0}"
      ]
     },
     "execution_count": 6,
     "metadata": {},
     "output_type": "execute_result"
    }
   ],
   "source": [
    "#Contact with Can in Driking Water\n",
    "results = calculate_statistics(87, 32, 34, 327)\n",
    "results"
   ]
  },
  {
   "cell_type": "code",
   "execution_count": 7,
   "metadata": {},
   "outputs": [
    {
     "data": {
      "text/plain": [
       "{'Risk Ratio': 1.4039863879436072,\n",
       " 'Odds Ratio': 7.867768595041323,\n",
       " 'Risk Difference': 0.27081635978491114,\n",
       " '95% CI for Risk Ratio': (0.6343296819911123, 3.1074973054131108),\n",
       " '95% CI for Odds Ratio': (3.5547062234571207, 17.4140361464009),\n",
       " 'p-value for Risk Ratio': 0.4025585064600927,\n",
       " 'p-value for Odds Ratio': 3.60571790425368e-07}"
      ]
     },
     "execution_count": 7,
     "metadata": {},
     "output_type": "execute_result"
    }
   ],
   "source": [
    "#Presence of Rats\n",
    "results = calculate_statistics(112, 7, 242, 119)\n",
    "results"
   ]
  },
  {
   "cell_type": "code",
   "execution_count": 8,
   "metadata": {},
   "outputs": [
    {
     "data": {
      "text/plain": [
       "{'Risk Ratio': 1.146984588888559,\n",
       " 'Odds Ratio': 2.4575971731448765,\n",
       " 'Risk Difference': 0.11522614586000612,\n",
       " '95% CI for Risk Ratio': (0.6004672502647804, 2.1909165680022427),\n",
       " '95% CI for Odds Ratio': (1.2865967259828468, 4.694387715650236),\n",
       " 'p-value for Risk Ratio': 0.6779143064220883,\n",
       " 'p-value for Odds Ratio': 0.006466555942741481}"
      ]
     },
     "execution_count": 8,
     "metadata": {},
     "output_type": "execute_result"
    }
   ],
   "source": [
    "#Housing Type\n",
    "results = calculate_statistics(107, 12, 283, 78)\n",
    "results"
   ]
  },
  {
   "cell_type": "code",
   "execution_count": 9,
   "metadata": {},
   "outputs": [
    {
     "data": {
      "text/plain": [
       "{'Risk Ratio': 0.8181944977160989,\n",
       " 'Odds Ratio': 0.5993545412632549,\n",
       " 'Risk Difference': -0.12137154030587305,\n",
       " '95% CI for Risk Ratio': (0.53645105133358, 1.247909262976953),\n",
       " '95% CI for Odds Ratio': (0.3929681447134257, 0.9141348248338406),\n",
       " 'p-value for Risk Ratio': 0.3515120092535786,\n",
       " 'p-value for Odds Ratio': 0.01746318500784927}"
      ]
     },
     "execution_count": 9,
     "metadata": {},
     "output_type": "execute_result"
    }
   ],
   "source": [
    "#Water Souce \n",
    "results = calculate_statistics(65, 54, 241, 120)\n",
    "results"
   ]
  }
 ],
 "metadata": {
  "kernelspec": {
   "display_name": "Python 3",
   "language": "python",
   "name": "python3"
  },
  "language_info": {
   "codemirror_mode": {
    "name": "ipython",
    "version": 3
   },
   "file_extension": ".py",
   "mimetype": "text/x-python",
   "name": "python",
   "nbconvert_exporter": "python",
   "pygments_lexer": "ipython3",
   "version": "3.11.2"
  },
  "orig_nbformat": 4
 },
 "nbformat": 4,
 "nbformat_minor": 2
}
